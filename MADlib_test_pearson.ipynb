{
 "cells": [
  {
   "cell_type": "markdown",
   "metadata": {},
   "source": [
    "# 相関係数を求めるデモ\n",
    "サンプルデータを用意し、PostgreSQLとMADlibそれぞれを使って相関係数を求める\n",
    "## 前準備"
   ]
  },
  {
   "cell_type": "code",
   "execution_count": 321,
   "metadata": {
    "collapsed": true,
    "nbpresent": {
     "id": "3514aded-72ff-425a-92fa-037b2f832281"
    }
   },
   "outputs": [],
   "source": [
    "# ipython-sqlをロード\n",
    "%reload_ext sql\n",
    "# 文字コードをUTF-8にセット\n",
    "# (データベースの文字コードもUTF-8にセットしておくこと)\n",
    "import sys\n",
    "reload(sys)\n",
    "sys.setdefaultencoding(\"utf-8\")"
   ]
  },
  {
   "cell_type": "markdown",
   "metadata": {
    "nbpresent": {
     "id": "f0364266-3375-4c6e-88db-0fb03579c4c6"
    }
   },
   "source": [
    "## PostgreSQLに接続＆接続確認"
   ]
  },
  {
   "cell_type": "code",
   "execution_count": 322,
   "metadata": {
    "collapsed": false,
    "nbpresent": {
     "id": "950d8f49-b0c4-4cb0-9f58-b02ebb88ddd3"
    }
   },
   "outputs": [
    {
     "data": {
      "text/html": [
       "<table>\n",
       "    <tr>\n",
       "        <th>version</th>\n",
       "    </tr>\n",
       "    <tr>\n",
       "        <td>PostgreSQL 9.6.1 on x86_64-pc-linux-gnu, compiled by gcc (GCC) 4.8.5 20150623 (Red Hat 4.8.5-4), 64-bit</td>\n",
       "    </tr>\n",
       "</table>"
      ],
      "text/plain": [
       "[(u'PostgreSQL 9.6.1 on x86_64-pc-linux-gnu, compiled by gcc (GCC) 4.8.5 20150623 (Red Hat 4.8.5-4), 64-bit',)]"
      ]
     },
     "execution_count": 322,
     "metadata": {},
     "output_type": "execute_result"
    }
   ],
   "source": [
    "%sql postgresql://postgres@centos72/postgres\n",
    "%sql SELECT version();"
   ]
  },
  {
   "cell_type": "markdown",
   "metadata": {
    "nbpresent": {
     "id": "e067cf8c-4eb2-462f-b15d-04c857df790a"
    }
   },
   "source": [
    "## MADlibが正常にインストールされているか確認"
   ]
  },
  {
   "cell_type": "code",
   "execution_count": 304,
   "metadata": {
    "collapsed": false,
    "nbpresent": {
     "id": "40bb1121-c827-443f-bb6c-8fcc3871d60e"
    },
    "scrolled": true
   },
   "outputs": [
    {
     "data": {
      "text/html": [
       "<table>\n",
       "    <tr>\n",
       "        <th>version</th>\n",
       "    </tr>\n",
       "    <tr>\n",
       "        <td>MADlib version: 1.10.0-dev, git revision: rel/v1.9.1-8-g82e56a4, cmake configuration time: 2016年 11月 22日 火曜日 00:25:23 UTC, build type: RelWithDebInfo, build system: Linux-3.10.0-327.el7.x86_64, C compiler: gcc 4.8.5, C++ compiler: g++ 4.8.5</td>\n",
       "    </tr>\n",
       "</table>"
      ],
      "text/plain": [
       "[(u'MADlib version: 1.10.0-dev, git revision: rel/v1.9.1-8-g82e56a4, cmake configuration time: 2016\\u5e74 11\\u6708 22\\u65e5 \\u706b\\u66dc\\u65e5 00:25:23 UTC, build type: RelWithDebInfo, build system: Linux-3.10.0-327.el7.x86_64, C compiler: gcc 4.8.5, C++ compiler: g++ 4.8.5',)]"
      ]
     },
     "execution_count": 304,
     "metadata": {},
     "output_type": "execute_result"
    }
   ],
   "source": [
    "%sql SELECT madlib.version();"
   ]
  },
  {
   "cell_type": "markdown",
   "metadata": {
    "nbpresent": {
     "id": "dd1484c1-329b-4fe3-bd77-dd0be6285402"
    }
   },
   "source": [
    "## サンプルデータ準備"
   ]
  },
  {
   "cell_type": "code",
   "execution_count": 325,
   "metadata": {
    "collapsed": false
   },
   "outputs": [
    {
     "data": {
      "text/html": [
       "<table>\n",
       "    <tr>\n",
       "        <th>ItemID</th>\n",
       "        <th>User1</th>\n",
       "        <th>User2</th>\n",
       "        <th>User3</th>\n",
       "        <th>User4</th>\n",
       "        <th>User5</th>\n",
       "    </tr>\n",
       "    <tr>\n",
       "        <td>101</td>\n",
       "        <td>5.0</td>\n",
       "        <td>2.0</td>\n",
       "        <td>2.5</td>\n",
       "        <td>5.0</td>\n",
       "        <td>4.0</td>\n",
       "    </tr>\n",
       "    <tr>\n",
       "        <td>102</td>\n",
       "        <td>3.0</td>\n",
       "        <td>4.4</td>\n",
       "        <td>2.0</td>\n",
       "        <td>4.0</td>\n",
       "        <td>3.0</td>\n",
       "    </tr>\n",
       "    <tr>\n",
       "        <td>103</td>\n",
       "        <td>2.5</td>\n",
       "        <td>5.0</td>\n",
       "        <td>2.0</td>\n",
       "        <td>3.0</td>\n",
       "        <td>2.0</td>\n",
       "    </tr>\n",
       "    <tr>\n",
       "        <td>104</td>\n",
       "        <td>4.0</td>\n",
       "        <td>1.0</td>\n",
       "        <td>4.0</td>\n",
       "        <td>4.5</td>\n",
       "        <td>4.0</td>\n",
       "    </tr>\n",
       "    <tr>\n",
       "        <td>105</td>\n",
       "        <td>2.5</td>\n",
       "        <td>5.0</td>\n",
       "        <td>2.5</td>\n",
       "        <td>2.0</td>\n",
       "        <td>3.5</td>\n",
       "    </tr>\n",
       "    <tr>\n",
       "        <td>106</td>\n",
       "        <td>2.5</td>\n",
       "        <td>4.5</td>\n",
       "        <td>3.0</td>\n",
       "        <td>4.0</td>\n",
       "        <td>5.0</td>\n",
       "    </tr>\n",
       "    <tr>\n",
       "        <td>107</td>\n",
       "        <td>2.5</td>\n",
       "        <td>1.0</td>\n",
       "        <td>5.0</td>\n",
       "        <td>3.5</td>\n",
       "        <td>2.0</td>\n",
       "    </tr>\n",
       "</table>"
      ],
      "text/plain": [
       "[(101, Decimal('5.0'), Decimal('2.0'), Decimal('2.5'), Decimal('5.0'), Decimal('4.0')),\n",
       " (102, Decimal('3.0'), Decimal('4.4'), Decimal('2.0'), Decimal('4.0'), Decimal('3.0')),\n",
       " (103, Decimal('2.5'), Decimal('5.0'), Decimal('2.0'), Decimal('3.0'), Decimal('2.0')),\n",
       " (104, Decimal('4.0'), Decimal('1.0'), Decimal('4.0'), Decimal('4.5'), Decimal('4.0')),\n",
       " (105, Decimal('2.5'), Decimal('5.0'), Decimal('2.5'), Decimal('2.0'), Decimal('3.5')),\n",
       " (106, Decimal('2.5'), Decimal('4.5'), Decimal('3.0'), Decimal('4.0'), Decimal('5.0')),\n",
       " (107, Decimal('2.5'), Decimal('1.0'), Decimal('5.0'), Decimal('3.5'), Decimal('2.0'))]"
      ]
     },
     "execution_count": 325,
     "metadata": {},
     "output_type": "execute_result"
    }
   ],
   "source": [
    "%%sql\n",
    "\n",
    "DROP TABLE IF EXISTS\n",
    "    pearson_test\n",
    ";\n",
    "\n",
    "CREATE TABLE\n",
    "    pearson_test(\n",
    "         \"ItemID\" INT\n",
    "        ,\"User1\" NUMERIC\n",
    "        ,\"User2\" NUMERIC\n",
    "        ,\"User3\" NUMERIC\n",
    "        ,\"User4\" NUMERIC\n",
    "        ,\"User5\" NUMERIC\n",
    "    )\n",
    ";\n",
    "\n",
    "INSERT INTO\n",
    "    pearson_test\n",
    "VALUES\n",
    "     (101, 5.0, 2.0, 2.5, 5.0, 4.0)\n",
    "    ,(102, 3.0, 4.4, 2.0, 4.0, 3.0)\n",
    "    ,(103, 2.5, 5.0, 2.0, 3.0, 2.0)\n",
    "    ,(104, 4.0, 1.0, 4.0, 4.5, 4.0)\n",
    "    ,(105, 2.5, 5.0, 2.5, 2.0, 3.5)\n",
    "    ,(106, 2.5, 4.5, 3.0, 4.0, 5.0)\n",
    "    ,(107, 2.5, 1.0, 5.0, 3.5, 2.0)\n",
    ";\n",
    "\n",
    "SELECT * FROM pearson_test;"
   ]
  },
  {
   "cell_type": "markdown",
   "metadata": {},
   "source": [
    "## PostgreSQL本体の相関係数関数を使って特定のユーザ同士の相関係数を求める"
   ]
  },
  {
   "cell_type": "code",
   "execution_count": 318,
   "metadata": {
    "collapsed": false
   },
   "outputs": [
    {
     "data": {
      "text/html": [
       "<table>\n",
       "    <tr>\n",
       "        <th>corr</th>\n",
       "    </tr>\n",
       "    <tr>\n",
       "        <td>0.769711105935</td>\n",
       "    </tr>\n",
       "</table>"
      ],
      "text/plain": [
       "[(0.769711105935245,)]"
      ]
     },
     "execution_count": 318,
     "metadata": {},
     "output_type": "execute_result"
    }
   ],
   "source": [
    "%sql SELECT corr(\"User1\",\"User4\") FROM pearson_test;"
   ]
  },
  {
   "cell_type": "code",
   "execution_count": 319,
   "metadata": {
    "collapsed": false
   },
   "outputs": [
    {
     "data": {
      "text/html": [
       "<table>\n",
       "    <tr>\n",
       "        <th>corr</th>\n",
       "    </tr>\n",
       "    <tr>\n",
       "        <td>-0.794656321349</td>\n",
       "    </tr>\n",
       "</table>"
      ],
      "text/plain": [
       "[(-0.79465632134891,)]"
      ]
     },
     "execution_count": 319,
     "metadata": {},
     "output_type": "execute_result"
    }
   ],
   "source": [
    "%sql SELECT corr(\"User2\",\"User3\") FROM pearson_test;"
   ]
  },
  {
   "cell_type": "markdown",
   "metadata": {},
   "source": [
    "## MADlibの相関係数関数を使ってUser1から5を指定して相関係数を求める"
   ]
  },
  {
   "cell_type": "code",
   "execution_count": 327,
   "metadata": {
    "collapsed": false
   },
   "outputs": [
    {
     "data": {
      "text/html": [
       "<table>\n",
       "    <tr>\n",
       "        <th>column_position</th>\n",
       "        <th>variable</th>\n",
       "        <th>User1</th>\n",
       "        <th>User2</th>\n",
       "        <th>User3</th>\n",
       "        <th>User4</th>\n",
       "        <th>User5</th>\n",
       "    </tr>\n",
       "    <tr>\n",
       "        <td>1</td>\n",
       "        <td>User1</td>\n",
       "        <td>1.0</td>\n",
       "        <td>None</td>\n",
       "        <td>None</td>\n",
       "        <td>None</td>\n",
       "        <td>None</td>\n",
       "    </tr>\n",
       "    <tr>\n",
       "        <td>2</td>\n",
       "        <td>User2</td>\n",
       "        <td>-0.546929577339</td>\n",
       "        <td>1.0</td>\n",
       "        <td>None</td>\n",
       "        <td>None</td>\n",
       "        <td>None</td>\n",
       "    </tr>\n",
       "    <tr>\n",
       "        <td>3</td>\n",
       "        <td>User3</td>\n",
       "        <td>-0.0377195470233</td>\n",
       "        <td>-0.794656321349</td>\n",
       "        <td>1.0</td>\n",
       "        <td>None</td>\n",
       "        <td>None</td>\n",
       "    </tr>\n",
       "    <tr>\n",
       "        <td>4</td>\n",
       "        <td>User4</td>\n",
       "        <td>0.769711105935</td>\n",
       "        <td>-0.582961865158</td>\n",
       "        <td>0.149966529064</td>\n",
       "        <td>1.0</td>\n",
       "        <td>None</td>\n",
       "    </tr>\n",
       "    <tr>\n",
       "        <td>5</td>\n",
       "        <td>User5</td>\n",
       "        <td>0.364518243178</td>\n",
       "        <td>0.0260498161861</td>\n",
       "        <td>-0.100966206016</td>\n",
       "        <td>0.410984968443</td>\n",
       "        <td>1.0</td>\n",
       "    </tr>\n",
       "</table>"
      ],
      "text/plain": [
       "[(1, u'User1', 1.0, None, None, None, None),\n",
       " (2, u'User2', -0.546929577338552, 1.0, None, None, None),\n",
       " (3, u'User3', -0.0377195470232912, -0.79465632134891, 1.0, None, None),\n",
       " (4, u'User4', 0.769711105935245, -0.582961865158075, 0.149966529063513, 1.0, None),\n",
       " (5, u'User5', 0.364518243177598, 0.0260498161861346, -0.10096620601608, 0.410984968442742, 1.0)]"
      ]
     },
     "execution_count": 327,
     "metadata": {},
     "output_type": "execute_result"
    }
   ],
   "source": [
    "%%sql\n",
    "\n",
    "DROP TABLE IF EXISTS\n",
    "     pearson_test_output\n",
    "    ,pearson_test_output_summary\n",
    ";\n",
    "\n",
    "SELECT \n",
    "    madlib.correlation(\n",
    "         'pearson_test'\n",
    "        ,'pearson_test_output'\n",
    "        ,'\n",
    "             \"User1\"\n",
    "            ,\"User2\"\n",
    "            ,\"User3\"\n",
    "            ,\"User4\"\n",
    "            ,\"User5\"\n",
    "         '\n",
    "    )\n",
    ";\n",
    "\n",
    "SELECT * FROM pearson_test_output;"
   ]
  },
  {
   "cell_type": "code",
   "execution_count": null,
   "metadata": {
    "collapsed": true
   },
   "outputs": [],
   "source": []
  }
 ],
 "metadata": {
  "anaconda-cloud": {},
  "kernelspec": {
   "display_name": "Python [conda root]",
   "language": "python",
   "name": "conda-root-py"
  },
  "language_info": {
   "codemirror_mode": {
    "name": "ipython",
    "version": 2
   },
   "file_extension": ".py",
   "mimetype": "text/x-python",
   "name": "python",
   "nbconvert_exporter": "python",
   "pygments_lexer": "ipython2",
   "version": "2.7.12"
  }
 },
 "nbformat": 4,
 "nbformat_minor": 1
}

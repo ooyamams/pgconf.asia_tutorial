{
 "cells": [
  {
   "cell_type": "code",
   "execution_count": 1,
   "metadata": {
    "collapsed": true
   },
   "outputs": [],
   "source": [
    "%reload_ext sql\n",
    "import sys\n",
    "reload(sys)\n",
    "sys.setdefaultencoding(\"utf-8\")"
   ]
  },
  {
   "cell_type": "code",
   "execution_count": 2,
   "metadata": {
    "collapsed": false
   },
   "outputs": [
    {
     "data": {
      "text/html": [
       "<table>\n",
       "    <tr>\n",
       "        <th>version</th>\n",
       "    </tr>\n",
       "    <tr>\n",
       "        <td>MADlib version: 1.10.0-dev, git revision: rel/v1.9.1-8-g82e56a4, cmake configuration time: 2016年 11月 22日 火曜日 00:25:23 UTC, build type: RelWithDebInfo, build system: Linux-3.10.0-327.el7.x86_64, C compiler: gcc 4.8.5, C++ compiler: g++ 4.8.5</td>\n",
       "    </tr>\n",
       "</table>"
      ],
      "text/plain": [
       "[(u'MADlib version: 1.10.0-dev, git revision: rel/v1.9.1-8-g82e56a4, cmake configuration time: 2016\\u5e74 11\\u6708 22\\u65e5 \\u706b\\u66dc\\u65e5 00:25:23 UTC, build type: RelWithDebInfo, build system: Linux-3.10.0-327.el7.x86_64, C compiler: gcc 4.8.5, C++ compiler: g++ 4.8.5',)]"
      ]
     },
     "execution_count": 2,
     "metadata": {},
     "output_type": "execute_result"
    }
   ],
   "source": [
    "%sql postgresql://postgres@centos72/postgres\n",
    "%sql select 1;\n",
    "%sql select madlib.version();"
   ]
  },
  {
   "cell_type": "code",
   "execution_count": 39,
   "metadata": {
    "collapsed": false
   },
   "outputs": [
    {
     "data": {
      "text/html": [
       "<table>\n",
       "    <tr>\n",
       "        <th>test_date</th>\n",
       "        <th>shop_id</th>\n",
       "        <th>value</th>\n",
       "    </tr>\n",
       "    <tr>\n",
       "        <td>2016-12-01</td>\n",
       "        <td>1</td>\n",
       "        <td>3</td>\n",
       "    </tr>\n",
       "    <tr>\n",
       "        <td>2016-12-01</td>\n",
       "        <td>2</td>\n",
       "        <td>2</td>\n",
       "    </tr>\n",
       "    <tr>\n",
       "        <td>2016-12-01</td>\n",
       "        <td>1</td>\n",
       "        <td>5</td>\n",
       "    </tr>\n",
       "    <tr>\n",
       "        <td>2016-12-02</td>\n",
       "        <td>1</td>\n",
       "        <td>4</td>\n",
       "    </tr>\n",
       "    <tr>\n",
       "        <td>2016-12-03</td>\n",
       "        <td>1</td>\n",
       "        <td>2</td>\n",
       "    </tr>\n",
       "    <tr>\n",
       "        <td>2016-12-03</td>\n",
       "        <td>2</td>\n",
       "        <td>6</td>\n",
       "    </tr>\n",
       "    <tr>\n",
       "        <td>2016-12-03</td>\n",
       "        <td>2</td>\n",
       "        <td>1</td>\n",
       "    </tr>\n",
       "    <tr>\n",
       "        <td>2016-12-04</td>\n",
       "        <td>1</td>\n",
       "        <td>3</td>\n",
       "    </tr>\n",
       "    <tr>\n",
       "        <td>2016-12-04</td>\n",
       "        <td>1</td>\n",
       "        <td>4</td>\n",
       "    </tr>\n",
       "</table>"
      ],
      "text/plain": [
       "[(datetime.date(2016, 12, 1), 1, 3),\n",
       " (datetime.date(2016, 12, 1), 2, 2),\n",
       " (datetime.date(2016, 12, 1), 1, 5),\n",
       " (datetime.date(2016, 12, 2), 1, 4),\n",
       " (datetime.date(2016, 12, 3), 1, 2),\n",
       " (datetime.date(2016, 12, 3), 2, 6),\n",
       " (datetime.date(2016, 12, 3), 2, 1),\n",
       " (datetime.date(2016, 12, 4), 1, 3),\n",
       " (datetime.date(2016, 12, 4), 1, 4)]"
      ]
     },
     "execution_count": 39,
     "metadata": {},
     "output_type": "execute_result"
    }
   ],
   "source": [
    "%%sql\n",
    "\n",
    "drop table if exists window_test;\n",
    "create table window_test(\n",
    "     test_date date\n",
    "    ,shop_id int\n",
    "    ,value int);\n",
    "insert into window_test values \n",
    " ('2016-12-1', '1', '3')\n",
    ",('2016-12-1', '2', '2')\n",
    ",('2016-12-1', '1', '5')\n",
    ",('2016-12-2', '1', '4')\n",
    ",('2016-12-3', '1', '2')\n",
    ",('2016-12-3', '2', '6')\n",
    ",('2016-12-3', '2', '1')\n",
    ",('2016-12-4', '1', '3')\n",
    ",('2016-12-4', '1', '4');\n",
    "select * from window_test;"
   ]
  },
  {
   "cell_type": "code",
   "execution_count": null,
   "metadata": {
    "collapsed": false
   },
   "outputs": [],
   "source": []
  },
  {
   "cell_type": "code",
   "execution_count": 56,
   "metadata": {
    "collapsed": false
   },
   "outputs": [
    {
     "data": {
      "text/html": [
       "<table>\n",
       "    <tr>\n",
       "        <th>test_date</th>\n",
       "        <th>shop_id</th>\n",
       "        <th>avg</th>\n",
       "    </tr>\n",
       "    <tr>\n",
       "        <td>2016-12-01</td>\n",
       "        <td>1</td>\n",
       "        <td>4.0000000000000000</td>\n",
       "    </tr>\n",
       "    <tr>\n",
       "        <td>2016-12-01</td>\n",
       "        <td>2</td>\n",
       "        <td>2.0000000000000000</td>\n",
       "    </tr>\n",
       "    <tr>\n",
       "        <td>2016-12-02</td>\n",
       "        <td>1</td>\n",
       "        <td>4.0000000000000000</td>\n",
       "    </tr>\n",
       "    <tr>\n",
       "        <td>2016-12-03</td>\n",
       "        <td>1</td>\n",
       "        <td>2.0000000000000000</td>\n",
       "    </tr>\n",
       "    <tr>\n",
       "        <td>2016-12-03</td>\n",
       "        <td>2</td>\n",
       "        <td>3.5000000000000000</td>\n",
       "    </tr>\n",
       "    <tr>\n",
       "        <td>2016-12-04</td>\n",
       "        <td>1</td>\n",
       "        <td>3.5000000000000000</td>\n",
       "    </tr>\n",
       "</table>"
      ],
      "text/plain": [
       "[(datetime.date(2016, 12, 1), 1, Decimal('4.0000000000000000')),\n",
       " (datetime.date(2016, 12, 1), 2, Decimal('2.0000000000000000')),\n",
       " (datetime.date(2016, 12, 2), 1, Decimal('4.0000000000000000')),\n",
       " (datetime.date(2016, 12, 3), 1, Decimal('2.0000000000000000')),\n",
       " (datetime.date(2016, 12, 3), 2, Decimal('3.5000000000000000')),\n",
       " (datetime.date(2016, 12, 4), 1, Decimal('3.5000000000000000'))]"
      ]
     },
     "execution_count": 56,
     "metadata": {},
     "output_type": "execute_result"
    }
   ],
   "source": [
    "%%sql\n",
    "\n",
    "select test_date, shop_id, avg(value) \n",
    "from window_test\n",
    "group by shop_id, test_date\n",
    "order by test_date, shop_id;"
   ]
  },
  {
   "cell_type": "code",
   "execution_count": 57,
   "metadata": {
    "collapsed": false
   },
   "outputs": [
    {
     "data": {
      "text/html": [
       "<table>\n",
       "    <tr>\n",
       "        <th>test_date</th>\n",
       "        <th>shop_id</th>\n",
       "        <th>avg</th>\n",
       "    </tr>\n",
       "    <tr>\n",
       "        <td>2016-12-01</td>\n",
       "        <td>1</td>\n",
       "        <td>4.0000000000000000</td>\n",
       "    </tr>\n",
       "    <tr>\n",
       "        <td>2016-12-01</td>\n",
       "        <td>1</td>\n",
       "        <td>4.0000000000000000</td>\n",
       "    </tr>\n",
       "    <tr>\n",
       "        <td>2016-12-01</td>\n",
       "        <td>2</td>\n",
       "        <td>2.0000000000000000</td>\n",
       "    </tr>\n",
       "    <tr>\n",
       "        <td>2016-12-02</td>\n",
       "        <td>1</td>\n",
       "        <td>4.0000000000000000</td>\n",
       "    </tr>\n",
       "    <tr>\n",
       "        <td>2016-12-03</td>\n",
       "        <td>1</td>\n",
       "        <td>2.0000000000000000</td>\n",
       "    </tr>\n",
       "    <tr>\n",
       "        <td>2016-12-03</td>\n",
       "        <td>2</td>\n",
       "        <td>3.5000000000000000</td>\n",
       "    </tr>\n",
       "    <tr>\n",
       "        <td>2016-12-03</td>\n",
       "        <td>2</td>\n",
       "        <td>3.5000000000000000</td>\n",
       "    </tr>\n",
       "    <tr>\n",
       "        <td>2016-12-04</td>\n",
       "        <td>1</td>\n",
       "        <td>3.5000000000000000</td>\n",
       "    </tr>\n",
       "    <tr>\n",
       "        <td>2016-12-04</td>\n",
       "        <td>1</td>\n",
       "        <td>3.5000000000000000</td>\n",
       "    </tr>\n",
       "</table>"
      ],
      "text/plain": [
       "[(datetime.date(2016, 12, 1), 1, Decimal('4.0000000000000000')),\n",
       " (datetime.date(2016, 12, 1), 1, Decimal('4.0000000000000000')),\n",
       " (datetime.date(2016, 12, 1), 2, Decimal('2.0000000000000000')),\n",
       " (datetime.date(2016, 12, 2), 1, Decimal('4.0000000000000000')),\n",
       " (datetime.date(2016, 12, 3), 1, Decimal('2.0000000000000000')),\n",
       " (datetime.date(2016, 12, 3), 2, Decimal('3.5000000000000000')),\n",
       " (datetime.date(2016, 12, 3), 2, Decimal('3.5000000000000000')),\n",
       " (datetime.date(2016, 12, 4), 1, Decimal('3.5000000000000000')),\n",
       " (datetime.date(2016, 12, 4), 1, Decimal('3.5000000000000000'))]"
      ]
     },
     "execution_count": 57,
     "metadata": {},
     "output_type": "execute_result"
    }
   ],
   "source": [
    "%%sql\n",
    "\n",
    "select test_date, shop_id, \n",
    "    avg(value) over (\n",
    "    partition by shop_id, test_date)\n",
    "from window_test\n",
    "order by test_date, shop_id;"
   ]
  },
  {
   "cell_type": "code",
   "execution_count": 60,
   "metadata": {
    "collapsed": false
   },
   "outputs": [
    {
     "data": {
      "text/html": [
       "<table>\n",
       "    <tr>\n",
       "        <th>test_date</th>\n",
       "        <th>shop_id</th>\n",
       "        <th>value</th>\n",
       "        <th>rank</th>\n",
       "    </tr>\n",
       "    <tr>\n",
       "        <td>2016-12-01</td>\n",
       "        <td>2</td>\n",
       "        <td>2</td>\n",
       "        <td>1</td>\n",
       "    </tr>\n",
       "    <tr>\n",
       "        <td>2016-12-01</td>\n",
       "        <td>1</td>\n",
       "        <td>3</td>\n",
       "        <td>2</td>\n",
       "    </tr>\n",
       "    <tr>\n",
       "        <td>2016-12-01</td>\n",
       "        <td>1</td>\n",
       "        <td>5</td>\n",
       "        <td>3</td>\n",
       "    </tr>\n",
       "    <tr>\n",
       "        <td>2016-12-02</td>\n",
       "        <td>1</td>\n",
       "        <td>4</td>\n",
       "        <td>1</td>\n",
       "    </tr>\n",
       "    <tr>\n",
       "        <td>2016-12-03</td>\n",
       "        <td>2</td>\n",
       "        <td>1</td>\n",
       "        <td>1</td>\n",
       "    </tr>\n",
       "    <tr>\n",
       "        <td>2016-12-03</td>\n",
       "        <td>1</td>\n",
       "        <td>2</td>\n",
       "        <td>2</td>\n",
       "    </tr>\n",
       "    <tr>\n",
       "        <td>2016-12-03</td>\n",
       "        <td>2</td>\n",
       "        <td>6</td>\n",
       "        <td>3</td>\n",
       "    </tr>\n",
       "    <tr>\n",
       "        <td>2016-12-04</td>\n",
       "        <td>1</td>\n",
       "        <td>3</td>\n",
       "        <td>1</td>\n",
       "    </tr>\n",
       "    <tr>\n",
       "        <td>2016-12-04</td>\n",
       "        <td>1</td>\n",
       "        <td>4</td>\n",
       "        <td>2</td>\n",
       "    </tr>\n",
       "</table>"
      ],
      "text/plain": [
       "[(datetime.date(2016, 12, 1), 2, 2, 1L),\n",
       " (datetime.date(2016, 12, 1), 1, 3, 2L),\n",
       " (datetime.date(2016, 12, 1), 1, 5, 3L),\n",
       " (datetime.date(2016, 12, 2), 1, 4, 1L),\n",
       " (datetime.date(2016, 12, 3), 2, 1, 1L),\n",
       " (datetime.date(2016, 12, 3), 1, 2, 2L),\n",
       " (datetime.date(2016, 12, 3), 2, 6, 3L),\n",
       " (datetime.date(2016, 12, 4), 1, 3, 1L),\n",
       " (datetime.date(2016, 12, 4), 1, 4, 2L)]"
      ]
     },
     "execution_count": 60,
     "metadata": {},
     "output_type": "execute_result"
    }
   ],
   "source": [
    "%%sql\n",
    "\n",
    "select test_date, shop_id, value, \n",
    "    rank() over (\n",
    "    partition by test_date\n",
    "    order by value)\n",
    "from window_test\n",
    "order by test_date, rank;"
   ]
  },
  {
   "cell_type": "code",
   "execution_count": null,
   "metadata": {
    "collapsed": true
   },
   "outputs": [],
   "source": []
  }
 ],
 "metadata": {
  "anaconda-cloud": {},
  "kernelspec": {
   "display_name": "Python [conda root]",
   "language": "python",
   "name": "conda-root-py"
  },
  "language_info": {
   "codemirror_mode": {
    "name": "ipython",
    "version": 2
   },
   "file_extension": ".py",
   "mimetype": "text/x-python",
   "name": "python",
   "nbconvert_exporter": "python",
   "pygments_lexer": "ipython2",
   "version": "2.7.12"
  }
 },
 "nbformat": 4,
 "nbformat_minor": 1
}

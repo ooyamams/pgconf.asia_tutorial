{
 "cells": [
  {
   "cell_type": "markdown",
   "metadata": {},
   "source": [
    "# サポートベクターマシン 実際のデータによるデモ\n",
    "UC Irvine Machine Learning Repository で公開されている Adult データセットを用いてMADlibのサポートベクターマシンを試してみる"
   ]
  },
  {
   "cell_type": "markdown",
   "metadata": {},
   "source": [
    "## 前準備"
   ]
  },
  {
   "cell_type": "code",
   "execution_count": 431,
   "metadata": {
    "collapsed": true
   },
   "outputs": [],
   "source": [
    "# ipython-sqlをロード\n",
    "%reload_ext sql\n",
    "# 文字コードをUTF-8にセット\n",
    "# (データベースの文字コードもUTF-8にセットしておくこと)\n",
    "import sys\n",
    "reload(sys)\n",
    "sys.setdefaultencoding(\"utf-8\")"
   ]
  },
  {
   "cell_type": "markdown",
   "metadata": {},
   "source": [
    "## PostgreSQLに接続＆接続確認"
   ]
  },
  {
   "cell_type": "code",
   "execution_count": 435,
   "metadata": {
    "collapsed": false
   },
   "outputs": [
    {
     "data": {
      "text/html": [
       "<table>\n",
       "    <tr>\n",
       "        <th>version</th>\n",
       "    </tr>\n",
       "    <tr>\n",
       "        <td>PostgreSQL 9.6.1 on x86_64-pc-linux-gnu, compiled by gcc (GCC) 4.8.5 20150623 (Red Hat 4.8.5-4), 64-bit</td>\n",
       "    </tr>\n",
       "</table>"
      ],
      "text/plain": [
       "[(u'PostgreSQL 9.6.1 on x86_64-pc-linux-gnu, compiled by gcc (GCC) 4.8.5 20150623 (Red Hat 4.8.5-4), 64-bit',)]"
      ]
     },
     "execution_count": 435,
     "metadata": {},
     "output_type": "execute_result"
    }
   ],
   "source": [
    "%sql postgresql://postgres@centos72/postgres\n",
    "%sql SELECT version();"
   ]
  },
  {
   "cell_type": "markdown",
   "metadata": {},
   "source": [
    "## MADlibが正常にインストールされているか確認"
   ]
  },
  {
   "cell_type": "code",
   "execution_count": 436,
   "metadata": {
    "collapsed": false
   },
   "outputs": [
    {
     "data": {
      "text/html": [
       "<table>\n",
       "    <tr>\n",
       "        <th>version</th>\n",
       "    </tr>\n",
       "    <tr>\n",
       "        <td>MADlib version: 1.10.0-dev, git revision: rel/v1.9.1-8-g82e56a4, cmake configuration time: 2016年 11月 22日 火曜日 00:25:23 UTC, build type: RelWithDebInfo, build system: Linux-3.10.0-327.el7.x86_64, C compiler: gcc 4.8.5, C++ compiler: g++ 4.8.5</td>\n",
       "    </tr>\n",
       "</table>"
      ],
      "text/plain": [
       "[(u'MADlib version: 1.10.0-dev, git revision: rel/v1.9.1-8-g82e56a4, cmake configuration time: 2016\\u5e74 11\\u6708 22\\u65e5 \\u706b\\u66dc\\u65e5 00:25:23 UTC, build type: RelWithDebInfo, build system: Linux-3.10.0-327.el7.x86_64, C compiler: gcc 4.8.5, C++ compiler: g++ 4.8.5',)]"
      ]
     },
     "execution_count": 436,
     "metadata": {},
     "output_type": "execute_result"
    }
   ],
   "source": [
    "%sql SELECT madlib.version();"
   ]
  },
  {
   "cell_type": "markdown",
   "metadata": {},
   "source": [
    "## AdultデータをローカルPCにダウンロード"
   ]
  },
  {
   "cell_type": "code",
   "execution_count": 434,
   "metadata": {
    "collapsed": false
   },
   "outputs": [],
   "source": [
    "#import urllib\n",
    "#urllib.urlretrieve('http://archive.ics.uci.edu/ml/machine-learning-databases/adult/adult.data', '/Users/Masanori/jupyter/MADlib/adult_dataset/adult.data')\n",
    "#urllib.urlretrieve('http://archive.ics.uci.edu/ml/machine-learning-databases/adult/adult.test', '/Users/Masanori/jupyter/MADlib/adult_dataset/adult.test')"
   ]
  },
  {
   "cell_type": "markdown",
   "metadata": {},
   "source": [
    "## テーブルを作成しテストデータをPostgreSQLにコピー"
   ]
  },
  {
   "cell_type": "code",
   "execution_count": 493,
   "metadata": {
    "collapsed": false
   },
   "outputs": [
    {
     "data": {
      "text/html": [
       "<table>\n",
       "    <tr>\n",
       "        <th>index</th>\n",
       "        <th>age</th>\n",
       "        <th>workclass</th>\n",
       "        <th>fnlwgt</th>\n",
       "        <th>education</th>\n",
       "        <th>education_num</th>\n",
       "        <th>marital_status</th>\n",
       "        <th>occupation</th>\n",
       "        <th>relationship</th>\n",
       "        <th>race</th>\n",
       "        <th>sex</th>\n",
       "        <th>capital_gain</th>\n",
       "        <th>capital_loss</th>\n",
       "        <th>hours_per_week</th>\n",
       "        <th>native_country</th>\n",
       "        <th>class</th>\n",
       "    </tr>\n",
       "    <tr>\n",
       "        <td>0</td>\n",
       "        <td>39</td>\n",
       "        <td> State-gov</td>\n",
       "        <td>77516</td>\n",
       "        <td> Bachelors</td>\n",
       "        <td>13</td>\n",
       "        <td> Never-married</td>\n",
       "        <td> Adm-clerical</td>\n",
       "        <td> Not-in-family</td>\n",
       "        <td> White</td>\n",
       "        <td> Male</td>\n",
       "        <td>2174</td>\n",
       "        <td>0</td>\n",
       "        <td>40</td>\n",
       "        <td> United-States</td>\n",
       "        <td> &lt;=50K</td>\n",
       "    </tr>\n",
       "    <tr>\n",
       "        <td>1</td>\n",
       "        <td>50</td>\n",
       "        <td> Self-emp-not-inc</td>\n",
       "        <td>83311</td>\n",
       "        <td> Bachelors</td>\n",
       "        <td>13</td>\n",
       "        <td> Married-civ-spouse</td>\n",
       "        <td> Exec-managerial</td>\n",
       "        <td> Husband</td>\n",
       "        <td> White</td>\n",
       "        <td> Male</td>\n",
       "        <td>0</td>\n",
       "        <td>0</td>\n",
       "        <td>13</td>\n",
       "        <td> United-States</td>\n",
       "        <td> &lt;=50K</td>\n",
       "    </tr>\n",
       "    <tr>\n",
       "        <td>2</td>\n",
       "        <td>38</td>\n",
       "        <td> Private</td>\n",
       "        <td>215646</td>\n",
       "        <td> HS-grad</td>\n",
       "        <td>9</td>\n",
       "        <td> Divorced</td>\n",
       "        <td> Handlers-cleaners</td>\n",
       "        <td> Not-in-family</td>\n",
       "        <td> White</td>\n",
       "        <td> Male</td>\n",
       "        <td>0</td>\n",
       "        <td>0</td>\n",
       "        <td>40</td>\n",
       "        <td> United-States</td>\n",
       "        <td> &lt;=50K</td>\n",
       "    </tr>\n",
       "    <tr>\n",
       "        <td>3</td>\n",
       "        <td>53</td>\n",
       "        <td> Private</td>\n",
       "        <td>234721</td>\n",
       "        <td> 11th</td>\n",
       "        <td>7</td>\n",
       "        <td> Married-civ-spouse</td>\n",
       "        <td> Handlers-cleaners</td>\n",
       "        <td> Husband</td>\n",
       "        <td> Black</td>\n",
       "        <td> Male</td>\n",
       "        <td>0</td>\n",
       "        <td>0</td>\n",
       "        <td>40</td>\n",
       "        <td> United-States</td>\n",
       "        <td> &lt;=50K</td>\n",
       "    </tr>\n",
       "    <tr>\n",
       "        <td>4</td>\n",
       "        <td>28</td>\n",
       "        <td> Private</td>\n",
       "        <td>338409</td>\n",
       "        <td> Bachelors</td>\n",
       "        <td>13</td>\n",
       "        <td> Married-civ-spouse</td>\n",
       "        <td> Prof-specialty</td>\n",
       "        <td> Wife</td>\n",
       "        <td> Black</td>\n",
       "        <td> Female</td>\n",
       "        <td>0</td>\n",
       "        <td>0</td>\n",
       "        <td>40</td>\n",
       "        <td> Cuba</td>\n",
       "        <td> &lt;=50K</td>\n",
       "    </tr>\n",
       "</table>"
      ],
      "text/plain": [
       "[(0L, 39L, u' State-gov', 77516L, u' Bachelors', 13L, u' Never-married', u' Adm-clerical', u' Not-in-family', u' White', u' Male', 2174L, 0L, 40L, u' United-States', u' <=50K'),\n",
       " (1L, 50L, u' Self-emp-not-inc', 83311L, u' Bachelors', 13L, u' Married-civ-spouse', u' Exec-managerial', u' Husband', u' White', u' Male', 0L, 0L, 13L, u' United-States', u' <=50K'),\n",
       " (2L, 38L, u' Private', 215646L, u' HS-grad', 9L, u' Divorced', u' Handlers-cleaners', u' Not-in-family', u' White', u' Male', 0L, 0L, 40L, u' United-States', u' <=50K'),\n",
       " (3L, 53L, u' Private', 234721L, u' 11th', 7L, u' Married-civ-spouse', u' Handlers-cleaners', u' Husband', u' Black', u' Male', 0L, 0L, 40L, u' United-States', u' <=50K'),\n",
       " (4L, 28L, u' Private', 338409L, u' Bachelors', 13L, u' Married-civ-spouse', u' Prof-specialty', u' Wife', u' Black', u' Female', 0L, 0L, 40L, u' Cuba', u' <=50K')]"
      ]
     },
     "execution_count": 493,
     "metadata": {},
     "output_type": "execute_result"
    }
   ],
   "source": [
    "# pandasを使ってデータを読み込む \n",
    "import pandas as pd\n",
    "from sqlalchemy import create_engine\n",
    "\n",
    "adult_data = pd.read_csv(\n",
    "                             'adult_dataset/adult.data'\n",
    "                            ,header=None\n",
    "                            ,names=[\n",
    "                                 'age'\n",
    "                                ,'workclass'\n",
    "                                , 'fnlwgt'\n",
    "                                , 'education'\n",
    "                                , 'education_num'\n",
    "                                , 'marital_status'\n",
    "                                , 'occupation'\n",
    "                                , 'relationship'\n",
    "                                , 'race'\n",
    "                                , 'sex'\n",
    "                                , 'capital_gain'\n",
    "                                , 'capital_loss'\n",
    "                                , 'hours_per_week'\n",
    "                                , 'native_country'\n",
    "                                , 'class'\n",
    "                            ]\n",
    "                        )\n",
    "# ipython-sql の機能を使ってPostgreSQLにデータを送信する\n",
    "# テーブルは自動作成される\n",
    "%sql DROP TABLE IF EXISTS adult_data;\n",
    "%sql PERSIST adult_data\n",
    "%sql SELECT * FROM adult_data LIMIT 5;"
   ]
  },
  {
   "cell_type": "markdown",
   "metadata": {},
   "source": [
    "## データが正常にPostgreSQLに送信されたことを確認\n",
    "ローカルPCのデータの件数とPostgreSQLの対象テーブルのレコード件数を比較"
   ]
  },
  {
   "cell_type": "code",
   "execution_count": 441,
   "metadata": {
    "collapsed": false
   },
   "outputs": [
    {
     "data": {
      "text/plain": [
       "32561"
      ]
     },
     "execution_count": 441,
     "metadata": {},
     "output_type": "execute_result"
    }
   ],
   "source": [
    "adult_data['age'].count()"
   ]
  },
  {
   "cell_type": "code",
   "execution_count": 446,
   "metadata": {
    "collapsed": false
   },
   "outputs": [
    {
     "data": {
      "text/html": [
       "<table>\n",
       "    <tr>\n",
       "        <th>count</th>\n",
       "    </tr>\n",
       "    <tr>\n",
       "        <td>32561</td>\n",
       "    </tr>\n",
       "</table>"
      ],
      "text/plain": [
       "[(32561L,)]"
      ]
     },
     "execution_count": 446,
     "metadata": {},
     "output_type": "execute_result"
    }
   ],
   "source": [
    "%sql SELECT count(1) FROM adult_data;"
   ]
  },
  {
   "cell_type": "markdown",
   "metadata": {},
   "source": [
    "## Adultデータセットのテキストの属性情報を数値に変換する\n",
    "サポートベクターマシンのインプットデータとしてテキストは使えない模様"
   ]
  },
  {
   "cell_type": "code",
   "execution_count": 455,
   "metadata": {
    "collapsed": false
   },
   "outputs": [
    {
     "data": {
      "text/html": [
       "<table>\n",
       "    <tr>\n",
       "        <th>index</th>\n",
       "        <th>age</th>\n",
       "        <th>workclass</th>\n",
       "        <th>education</th>\n",
       "        <th>education_num</th>\n",
       "        <th>marital_status</th>\n",
       "        <th>occupation</th>\n",
       "        <th>relationship</th>\n",
       "        <th>race</th>\n",
       "        <th>sex</th>\n",
       "        <th>capital_gain</th>\n",
       "        <th>capital_loss</th>\n",
       "        <th>hours_per_week</th>\n",
       "        <th>native_country</th>\n",
       "        <th>class</th>\n",
       "    </tr>\n",
       "    <tr>\n",
       "        <td>0</td>\n",
       "        <td>39.0</td>\n",
       "        <td>6.0</td>\n",
       "        <td>1.0</td>\n",
       "        <td>13.0</td>\n",
       "        <td>3.0</td>\n",
       "        <td>9.0</td>\n",
       "        <td>4.0</td>\n",
       "        <td>1.0</td>\n",
       "        <td>2.0</td>\n",
       "        <td>2174.0</td>\n",
       "        <td>0.0</td>\n",
       "        <td>40.0</td>\n",
       "        <td>1.0</td>\n",
       "        <td>1.0</td>\n",
       "    </tr>\n",
       "    <tr>\n",
       "        <td>1</td>\n",
       "        <td>50.0</td>\n",
       "        <td>2.0</td>\n",
       "        <td>1.0</td>\n",
       "        <td>13.0</td>\n",
       "        <td>1.0</td>\n",
       "        <td>5.0</td>\n",
       "        <td>3.0</td>\n",
       "        <td>1.0</td>\n",
       "        <td>2.0</td>\n",
       "        <td>0.0</td>\n",
       "        <td>0.0</td>\n",
       "        <td>13.0</td>\n",
       "        <td>1.0</td>\n",
       "        <td>1.0</td>\n",
       "    </tr>\n",
       "    <tr>\n",
       "        <td>2</td>\n",
       "        <td>38.0</td>\n",
       "        <td>1.0</td>\n",
       "        <td>4.0</td>\n",
       "        <td>9.0</td>\n",
       "        <td>2.0</td>\n",
       "        <td>7.0</td>\n",
       "        <td>4.0</td>\n",
       "        <td>1.0</td>\n",
       "        <td>2.0</td>\n",
       "        <td>0.0</td>\n",
       "        <td>0.0</td>\n",
       "        <td>40.0</td>\n",
       "        <td>1.0</td>\n",
       "        <td>1.0</td>\n",
       "    </tr>\n",
       "    <tr>\n",
       "        <td>3</td>\n",
       "        <td>53.0</td>\n",
       "        <td>1.0</td>\n",
       "        <td>3.0</td>\n",
       "        <td>7.0</td>\n",
       "        <td>1.0</td>\n",
       "        <td>7.0</td>\n",
       "        <td>3.0</td>\n",
       "        <td>5.0</td>\n",
       "        <td>2.0</td>\n",
       "        <td>0.0</td>\n",
       "        <td>0.0</td>\n",
       "        <td>40.0</td>\n",
       "        <td>1.0</td>\n",
       "        <td>1.0</td>\n",
       "    </tr>\n",
       "    <tr>\n",
       "        <td>4</td>\n",
       "        <td>28.0</td>\n",
       "        <td>1.0</td>\n",
       "        <td>1.0</td>\n",
       "        <td>13.0</td>\n",
       "        <td>1.0</td>\n",
       "        <td>6.0</td>\n",
       "        <td>1.0</td>\n",
       "        <td>5.0</td>\n",
       "        <td>1.0</td>\n",
       "        <td>0.0</td>\n",
       "        <td>0.0</td>\n",
       "        <td>40.0</td>\n",
       "        <td>12.0</td>\n",
       "        <td>1.0</td>\n",
       "    </tr>\n",
       "</table>"
      ],
      "text/plain": [
       "[(0L, 39.0, 6.0, 1.0, 13.0, 3.0, 9.0, 4.0, 1.0, 2.0, 2174.0, 0.0, 40.0, 1.0, 1.0),\n",
       " (1L, 50.0, 2.0, 1.0, 13.0, 1.0, 5.0, 3.0, 1.0, 2.0, 0.0, 0.0, 13.0, 1.0, 1.0),\n",
       " (2L, 38.0, 1.0, 4.0, 9.0, 2.0, 7.0, 4.0, 1.0, 2.0, 0.0, 0.0, 40.0, 1.0, 1.0),\n",
       " (3L, 53.0, 1.0, 3.0, 7.0, 1.0, 7.0, 3.0, 5.0, 2.0, 0.0, 0.0, 40.0, 1.0, 1.0),\n",
       " (4L, 28.0, 1.0, 1.0, 13.0, 1.0, 6.0, 1.0, 5.0, 1.0, 0.0, 0.0, 40.0, 12.0, 1.0)]"
      ]
     },
     "execution_count": 455,
     "metadata": {},
     "output_type": "execute_result"
    }
   ],
   "source": [
    "%%sql\n",
    "\n",
    "DROP TABLE IF EXISTS adult_data_parsed;\n",
    "CREATE TABLE \n",
    "    adult_data_parsed\n",
    "AS\n",
    "    SELECT\n",
    "         index\n",
    "        ,age::FLOAT8\n",
    "        ,CASE workclass\n",
    "                    WHEN ' Private' THEN '1'::FLOAT8\n",
    "                    WHEN ' Self-emp-not-inc' THEN '2'::FLOAT8\n",
    "                    WHEN ' Self-emp-inc' THEN '3'::FLOAT8\n",
    "                    WHEN ' Federal-gov' THEN '4'::FLOAT8\n",
    "                    WHEN ' Local-gov' THEN '5'::FLOAT8\n",
    "                    WHEN ' State-gov' THEN '6'::FLOAT8\n",
    "                    WHEN ' Without-pay' THEN '7'::FLOAT8\n",
    "                    WHEN ' Never-worked' THEN '8'::FLOAT8\n",
    "                END AS workclass\n",
    "        ,CASE education\n",
    "                    WHEN ' Bachelors' THEN '1'::FLOAT8\n",
    "                    WHEN ' Some-college' THEN '2'::FLOAT8\n",
    "                    WHEN ' 11th' THEN '3'::FLOAT8\n",
    "                    WHEN ' HS-grad' THEN '4'::FLOAT8\n",
    "                    WHEN ' Prof-school' THEN '5'::FLOAT8\n",
    "                    WHEN ' Assoc-acdm' THEN '6'::FLOAT8\n",
    "                    WHEN ' Assoc-voc' THEN '7'::FLOAT8\n",
    "                    WHEN ' 9th' THEN '8'::FLOAT8\n",
    "                    WHEN ' 7th-8th' THEN '9'::FLOAT8\n",
    "                    WHEN ' 12th' THEN '10'::FLOAT8\n",
    "                    WHEN ' Masters' THEN '11'::FLOAT8\n",
    "                    WHEN ' 1st-4th' THEN '12'::FLOAT8\n",
    "                    WHEN ' 10th' THEN '13'::FLOAT8\n",
    "                    WHEN ' Doctorate' THEN '14'::FLOAT8\n",
    "                    WHEN ' 5th-6th' THEN '15'::FLOAT8\n",
    "                    END AS education\n",
    "        ,education_num::FLOAT8\n",
    "        ,CASE marital_status\n",
    "                    WHEN ' Married-civ-spouse' THEN '1'::FLOAT8\n",
    "                    WHEN ' Divorced' THEN '2'::FLOAT8\n",
    "                    WHEN ' Never-married' THEN '3'::FLOAT8\n",
    "                    WHEN ' Separated' THEN '4'::FLOAT8\n",
    "                    WHEN ' Widowed' THEN '5'::FLOAT8\n",
    "                    WHEN ' Married-spouse-absent' THEN '6'::FLOAT8\n",
    "                    WHEN ' Married-AF-spouse' THEN '7'::FLOAT8\n",
    "                    END AS marital_status\n",
    "        ,CASE occupation\n",
    "                    WHEN ' Tech-support' THEN '1'::FLOAT8\n",
    "                    WHEN ' Craft-repair' THEN '2'::FLOAT8\n",
    "                    WHEN ' Other-service' THEN '3'::FLOAT8\n",
    "                    WHEN ' Sales' THEN '4'::FLOAT8\n",
    "                    WHEN ' Exec-managerial' THEN '5'::FLOAT8\n",
    "                    WHEN ' Prof-specialty' THEN '6'::FLOAT8\n",
    "                    WHEN ' Handlers-cleaners' THEN '7'::FLOAT8\n",
    "                    WHEN ' Machine-op-inspct' THEN '8'::FLOAT8\n",
    "                    WHEN ' Adm-clerical' THEN '9'::FLOAT8\n",
    "                    WHEN ' Farming-fishing' THEN '10'::FLOAT8\n",
    "                    WHEN ' Transport-moving' THEN '11'::FLOAT8\n",
    "                    WHEN ' Priv-house-serv' THEN '12'::FLOAT8\n",
    "                    WHEN ' Protective-serv' THEN '13'::FLOAT8\n",
    "                    WHEN ' Armed-Forces' THEN '14'::FLOAT8\n",
    "                    END AS occupation\n",
    "        ,CASE relationship\n",
    "                    WHEN ' Wife' THEN '1'::FLOAT8\n",
    "                    WHEN ' Own-child' THEN '2'::FLOAT8\n",
    "                    WHEN ' Husband' THEN '3'::FLOAT8\n",
    "                    WHEN ' Not-in-family' THEN '4'::FLOAT8\n",
    "                    WHEN ' Other-relative' THEN '5'::FLOAT8\n",
    "                    WHEN ' Unmarried' THEN '6'::FLOAT8\n",
    "                    END AS relationship\n",
    "        ,CASE race\n",
    "                    WHEN ' White' THEN '1'::FLOAT8\n",
    "                    WHEN ' Asian-Pac-Islander' THEN '2'::FLOAT8\n",
    "                    WHEN ' Amer-Indian-Eskimo' THEN '3'::FLOAT8\n",
    "                    WHEN ' Other' THEN '4'::FLOAT8\n",
    "                    WHEN ' Black' THEN '5'::FLOAT8\n",
    "                    END AS race\n",
    "        ,CASE sex \n",
    "                    WHEN ' Female' THEN '1'::FLOAT8\n",
    "                    WHEN ' Male' THEN '2'::FLOAT8\n",
    "                    END AS sex\n",
    "        ,capital_gain::FLOAT8\n",
    "        ,capital_loss::FLOAT8\n",
    "        ,hours_per_week::FLOAT8\n",
    "        ,CASE native_country\n",
    "                    WHEN ' United-States' THEN '1'::FLOAT8\n",
    "                    WHEN ' Cambodia' THEN '2'::FLOAT8\n",
    "                    WHEN ' England' THEN '3'::FLOAT8\n",
    "                    WHEN ' Puerto-Rico' THEN '4'::FLOAT8\n",
    "                    WHEN ' Canada' THEN '5'::FLOAT8\n",
    "                    WHEN ' Germany' THEN '6'::FLOAT8\n",
    "                    WHEN ' Outlying-US(Guam-USVI-etc)' THEN '7'::FLOAT8\n",
    "                    WHEN ' India' THEN '8'::FLOAT8\n",
    "                    WHEN ' Japan' THEN '9'::FLOAT8\n",
    "                    WHEN ' Greece' THEN '10'::FLOAT8\n",
    "                    WHEN ' South, China' THEN '11'::FLOAT8\n",
    "                    WHEN ' Cuba' THEN '12'::FLOAT8\n",
    "                    WHEN ' Iran' THEN '13'::FLOAT8\n",
    "                    WHEN ' Honduras' THEN '14'::FLOAT8\n",
    "                    WHEN ' Philippines' THEN '15'::FLOAT8\n",
    "                    WHEN ' Italy' THEN '16'::FLOAT8\n",
    "                    WHEN ' Poland' THEN '17'::FLOAT8\n",
    "                    WHEN ' Vietnam' THEN '18'::FLOAT8\n",
    "                    WHEN ' Mexico' THEN '19'::FLOAT8\n",
    "                    WHEN ' Portugal' THEN '20'::FLOAT8\n",
    "                    WHEN ' Ireland' THEN '21'::FLOAT8\n",
    "                    WHEN ' France' THEN '22'::FLOAT8\n",
    "                    WHEN ' Dominican-Republic' THEN '23'::FLOAT8\n",
    "                    WHEN ' Laos' THEN '24'::FLOAT8\n",
    "                    WHEN ' Ecuador' THEN '25'::FLOAT8\n",
    "                    WHEN ' Taiwan' THEN '26'::FLOAT8\n",
    "                    WHEN ' Haiti' THEN '27'::FLOAT8\n",
    "                    WHEN ' Columbia' THEN '28'::FLOAT8\n",
    "                    WHEN ' Hungary' THEN '29'::FLOAT8\n",
    "                    WHEN ' Guatemala' THEN '30'::FLOAT8\n",
    "                    WHEN ' Nicaragua' THEN '31'::FLOAT8\n",
    "                    WHEN ' Scotland' THEN '32'::FLOAT8\n",
    "                    WHEN ' Thailand' THEN '33'::FLOAT8\n",
    "                    WHEN ' Yugoslavia' THEN '34'::FLOAT8\n",
    "                    WHEN ' El-Salvador' THEN '35'::FLOAT8\n",
    "                    WHEN ' Trinadad&Tobago' THEN '36'::FLOAT8\n",
    "                    WHEN ' Peru' THEN '37'::FLOAT8\n",
    "                    WHEN ' Hong' THEN '38'::FLOAT8\n",
    "                    WHEN ' Holand-Netherlands' THEN '39'::FLOAT8\n",
    "                    END AS native_country\n",
    "        ,CASE class\n",
    "                    WHEN ' >50K' THEN '0'::FLOAT8\n",
    "                    WHEN ' <=50K' THEN '1'::FLOAT8\n",
    "                    END AS class\n",
    "    FROM adult_data\n",
    ";\n",
    "SELECT * FROM adult_data_parsed LIMIT 5;"
   ]
  },
  {
   "cell_type": "markdown",
   "metadata": {
    "collapsed": true
   },
   "source": [
    "## テストデータもPostgreSQLにロード\n",
    "作成したモデルを評価するためのデータセットも提供されている。PostgreSQLに送信する。"
   ]
  },
  {
   "cell_type": "code",
   "execution_count": 444,
   "metadata": {
    "collapsed": false
   },
   "outputs": [
    {
     "data": {
      "text/plain": [
       "u'Persisted adult_test'"
      ]
     },
     "execution_count": 444,
     "metadata": {},
     "output_type": "execute_result"
    }
   ],
   "source": [
    "adult_test = pd.read_csv(\n",
    "                            'adult_dataset/adult.test'\n",
    "                            , header=None\n",
    "                            , skiprows=1\n",
    "                            ,names=[\n",
    "                                'age'\n",
    "                                , 'workclass'\n",
    "                                , 'fnlwgt'\n",
    "                                , 'education'\n",
    "                                , 'education_num'\n",
    "                                ,'marital_status'\n",
    "                                , 'occupation'\n",
    "                                , 'relationship'\n",
    "                                , 'race'\n",
    "                                , 'sex'\n",
    "                                ,'capital_gain'\n",
    "                                , 'capital_loss'\n",
    "                                , 'hours_per_week'\n",
    "                                , 'native_country'\n",
    "                                , 'class'\n",
    "                            ]\n",
    "                        )\n",
    "%sql DROP TABLE IF EXISTS adult_test;\n",
    "%sql PERSIST adult_test"
   ]
  },
  {
   "cell_type": "code",
   "execution_count": 445,
   "metadata": {
    "collapsed": false
   },
   "outputs": [
    {
     "data": {
      "text/plain": [
       "16281"
      ]
     },
     "execution_count": 445,
     "metadata": {},
     "output_type": "execute_result"
    }
   ],
   "source": [
    "adult_test['age'].count()"
   ]
  },
  {
   "cell_type": "code",
   "execution_count": 447,
   "metadata": {
    "collapsed": false
   },
   "outputs": [
    {
     "data": {
      "text/html": [
       "<table>\n",
       "    <tr>\n",
       "        <th>count</th>\n",
       "    </tr>\n",
       "    <tr>\n",
       "        <td>16281</td>\n",
       "    </tr>\n",
       "</table>"
      ],
      "text/plain": [
       "[(16281L,)]"
      ]
     },
     "execution_count": 447,
     "metadata": {},
     "output_type": "execute_result"
    }
   ],
   "source": [
    "%sql SELECT count(1) FROM adult_test;"
   ]
  },
  {
   "cell_type": "code",
   "execution_count": 459,
   "metadata": {
    "collapsed": false
   },
   "outputs": [
    {
     "data": {
      "text/html": [
       "<table>\n",
       "    <tr>\n",
       "        <th>index</th>\n",
       "        <th>age</th>\n",
       "        <th>workclass</th>\n",
       "        <th>education</th>\n",
       "        <th>education_num</th>\n",
       "        <th>marital_status</th>\n",
       "        <th>occupation</th>\n",
       "        <th>relationship</th>\n",
       "        <th>race</th>\n",
       "        <th>sex</th>\n",
       "        <th>capital_gain</th>\n",
       "        <th>capital_loss</th>\n",
       "        <th>hours_per_week</th>\n",
       "        <th>native_country</th>\n",
       "        <th>class</th>\n",
       "    </tr>\n",
       "    <tr>\n",
       "        <td>0</td>\n",
       "        <td>25.0</td>\n",
       "        <td>1.0</td>\n",
       "        <td>3.0</td>\n",
       "        <td>7.0</td>\n",
       "        <td>3.0</td>\n",
       "        <td>8.0</td>\n",
       "        <td>2.0</td>\n",
       "        <td>5.0</td>\n",
       "        <td>2.0</td>\n",
       "        <td>0.0</td>\n",
       "        <td>0.0</td>\n",
       "        <td>40.0</td>\n",
       "        <td>1.0</td>\n",
       "        <td>1.0</td>\n",
       "    </tr>\n",
       "    <tr>\n",
       "        <td>1</td>\n",
       "        <td>38.0</td>\n",
       "        <td>1.0</td>\n",
       "        <td>4.0</td>\n",
       "        <td>9.0</td>\n",
       "        <td>1.0</td>\n",
       "        <td>10.0</td>\n",
       "        <td>3.0</td>\n",
       "        <td>1.0</td>\n",
       "        <td>2.0</td>\n",
       "        <td>0.0</td>\n",
       "        <td>0.0</td>\n",
       "        <td>50.0</td>\n",
       "        <td>1.0</td>\n",
       "        <td>1.0</td>\n",
       "    </tr>\n",
       "    <tr>\n",
       "        <td>2</td>\n",
       "        <td>28.0</td>\n",
       "        <td>5.0</td>\n",
       "        <td>6.0</td>\n",
       "        <td>12.0</td>\n",
       "        <td>1.0</td>\n",
       "        <td>13.0</td>\n",
       "        <td>3.0</td>\n",
       "        <td>1.0</td>\n",
       "        <td>2.0</td>\n",
       "        <td>0.0</td>\n",
       "        <td>0.0</td>\n",
       "        <td>40.0</td>\n",
       "        <td>1.0</td>\n",
       "        <td>0.0</td>\n",
       "    </tr>\n",
       "    <tr>\n",
       "        <td>3</td>\n",
       "        <td>44.0</td>\n",
       "        <td>1.0</td>\n",
       "        <td>2.0</td>\n",
       "        <td>10.0</td>\n",
       "        <td>1.0</td>\n",
       "        <td>8.0</td>\n",
       "        <td>3.0</td>\n",
       "        <td>5.0</td>\n",
       "        <td>2.0</td>\n",
       "        <td>7688.0</td>\n",
       "        <td>0.0</td>\n",
       "        <td>40.0</td>\n",
       "        <td>1.0</td>\n",
       "        <td>0.0</td>\n",
       "    </tr>\n",
       "    <tr>\n",
       "        <td>4</td>\n",
       "        <td>18.0</td>\n",
       "        <td>None</td>\n",
       "        <td>2.0</td>\n",
       "        <td>10.0</td>\n",
       "        <td>3.0</td>\n",
       "        <td>None</td>\n",
       "        <td>2.0</td>\n",
       "        <td>1.0</td>\n",
       "        <td>1.0</td>\n",
       "        <td>0.0</td>\n",
       "        <td>0.0</td>\n",
       "        <td>30.0</td>\n",
       "        <td>1.0</td>\n",
       "        <td>1.0</td>\n",
       "    </tr>\n",
       "</table>"
      ],
      "text/plain": [
       "[(0L, 25.0, 1.0, 3.0, 7.0, 3.0, 8.0, 2.0, 5.0, 2.0, 0.0, 0.0, 40.0, 1.0, 1.0),\n",
       " (1L, 38.0, 1.0, 4.0, 9.0, 1.0, 10.0, 3.0, 1.0, 2.0, 0.0, 0.0, 50.0, 1.0, 1.0),\n",
       " (2L, 28.0, 5.0, 6.0, 12.0, 1.0, 13.0, 3.0, 1.0, 2.0, 0.0, 0.0, 40.0, 1.0, 0.0),\n",
       " (3L, 44.0, 1.0, 2.0, 10.0, 1.0, 8.0, 3.0, 5.0, 2.0, 7688.0, 0.0, 40.0, 1.0, 0.0),\n",
       " (4L, 18.0, None, 2.0, 10.0, 3.0, None, 2.0, 1.0, 1.0, 0.0, 0.0, 30.0, 1.0, 1.0)]"
      ]
     },
     "execution_count": 459,
     "metadata": {},
     "output_type": "execute_result"
    }
   ],
   "source": [
    "%%sql\n",
    "\n",
    "DROP TABLE IF EXISTS adult_test_parsed;\n",
    "CREATE TABLE \n",
    "    adult_test_parsed\n",
    "AS\n",
    "    SELECT\n",
    "        index\n",
    "        ,age::FLOAT8\n",
    "        ,CASE workclass\n",
    "                    WHEN ' Private' THEN '1'::FLOAT8\n",
    "                    WHEN ' Self-emp-not-inc' THEN '2'::FLOAT8\n",
    "                    WHEN ' Self-emp-inc' THEN '3'::FLOAT8\n",
    "                    WHEN ' Federal-gov' THEN '4'::FLOAT8\n",
    "                    WHEN ' Local-gov' THEN '5'::FLOAT8\n",
    "                    WHEN ' State-gov' THEN '6'::FLOAT8\n",
    "                    WHEN ' Without-pay' THEN '7'::FLOAT8\n",
    "                    WHEN ' Never-worked' THEN '8'::FLOAT8\n",
    "                    END AS workclass\n",
    "        ,CASE education\n",
    "                    WHEN ' Bachelors' THEN '1'::FLOAT8\n",
    "                    WHEN ' Some-college' THEN '2'::FLOAT8\n",
    "                    WHEN ' 11th' THEN '3'::FLOAT8\n",
    "                    WHEN ' HS-grad' THEN '4'::FLOAT8\n",
    "                    WHEN ' Prof-school' THEN '5'::FLOAT8\n",
    "                    WHEN ' Assoc-acdm' THEN '6'::FLOAT8\n",
    "                    WHEN ' Assoc-voc' THEN '7'::FLOAT8\n",
    "                    WHEN ' 9th' THEN '8'::FLOAT8\n",
    "                    WHEN ' 7th-8th' THEN '9'::FLOAT8\n",
    "                    WHEN ' 12th' THEN '10'::FLOAT8\n",
    "                    WHEN ' Masters' THEN '11'::FLOAT8\n",
    "                    WHEN ' 1st-4th' THEN '12'::FLOAT8\n",
    "                    WHEN ' 10th' THEN '13'::FLOAT8\n",
    "                    WHEN ' Doctorate' THEN '14'::FLOAT8\n",
    "                    WHEN ' 5th-6th' THEN '15'::FLOAT8\n",
    "                    END AS education\n",
    "        ,education_num::FLOAT8\n",
    "        ,CASE marital_status\n",
    "                    WHEN ' Married-civ-spouse' THEN '1'::FLOAT8\n",
    "                    WHEN ' Divorced' THEN '2'::FLOAT8\n",
    "                    WHEN ' Never-married' THEN '3'::FLOAT8\n",
    "                    WHEN ' Separated' THEN '4'::FLOAT8\n",
    "                    WHEN ' Widowed' THEN '5'::FLOAT8\n",
    "                    WHEN ' Married-spouse-absent' THEN '6'::FLOAT8\n",
    "                    WHEN ' Married-AF-spouse' THEN '7'::FLOAT8\n",
    "                    END AS marital_status\n",
    "        ,CASE occupation\n",
    "                    WHEN ' Tech-support' THEN '1'::FLOAT8\n",
    "                    WHEN ' Craft-repair' THEN '2'::FLOAT8\n",
    "                    WHEN ' Other-service' THEN '3'::FLOAT8\n",
    "                    WHEN ' Sales' THEN '4'::FLOAT8\n",
    "                    WHEN ' Exec-managerial' THEN '5'::FLOAT8\n",
    "                    WHEN ' Prof-specialty' THEN '6'::FLOAT8\n",
    "                    WHEN ' Handlers-cleaners' THEN '7'::FLOAT8\n",
    "                    WHEN ' Machine-op-inspct' THEN '8'::FLOAT8\n",
    "                    WHEN ' Adm-clerical' THEN '9'::FLOAT8\n",
    "                    WHEN ' Farming-fishing' THEN '10'::FLOAT8\n",
    "                    WHEN ' Transport-moving' THEN '11'::FLOAT8\n",
    "                    WHEN ' Priv-house-serv' THEN '12'::FLOAT8\n",
    "                    WHEN ' Protective-serv' THEN '13'::FLOAT8\n",
    "                    WHEN ' Armed-Forces' THEN '14'::FLOAT8\n",
    "                    END AS occupation\n",
    "        ,CASE relationship\n",
    "                    WHEN ' Wife' THEN '1'::FLOAT8\n",
    "                    WHEN ' Own-child' THEN '2'::FLOAT8\n",
    "                    WHEN ' Husband' THEN '3'::FLOAT8\n",
    "                    WHEN ' Not-in-family' THEN '4'::FLOAT8\n",
    "                    WHEN ' Other-relative' THEN '5'::FLOAT8\n",
    "                    WHEN ' Unmarried' THEN '6'::FLOAT8\n",
    "                    END AS relationship\n",
    "        ,CASE race\n",
    "                    WHEN ' White' THEN '1'::FLOAT8\n",
    "                    WHEN ' Asian-Pac-Islander' THEN '2'::FLOAT8\n",
    "                    WHEN ' Amer-Indian-Eskimo' THEN '3'::FLOAT8\n",
    "                    WHEN ' Other' THEN '4'::FLOAT8\n",
    "                    WHEN ' Black' THEN '5'::FLOAT8\n",
    "                    END AS race\n",
    "        ,CASE sex\n",
    "                    WHEN ' Female' THEN '1'::FLOAT8\n",
    "                    WHEN ' Male' THEN '2'::bigint::FLOAT8\n",
    "                    END AS sex\n",
    "        ,capital_gain::FLOAT8\n",
    "        ,capital_loss::FLOAT8\n",
    "        ,hours_per_week::FLOAT8\n",
    "        ,CASE native_country\n",
    "                    WHEN ' United-States' THEN '1'::FLOAT8\n",
    "                    WHEN ' Cambodia' THEN '2'::FLOAT8\n",
    "                    WHEN ' England' THEN '3'::FLOAT8\n",
    "                    WHEN ' Puerto-Rico' THEN '4'::FLOAT8\n",
    "                    WHEN ' Canada' THEN '5'::FLOAT8\n",
    "                    WHEN ' Germany' THEN '6'::FLOAT8\n",
    "                    WHEN ' Outlying-US(Guam-USVI-etc)' THEN '7'::FLOAT8\n",
    "                    WHEN ' India' THEN '8'::FLOAT8\n",
    "                    WHEN ' Japan' THEN '9'::FLOAT8\n",
    "                    WHEN ' Greece' THEN '10'::FLOAT8\n",
    "                    WHEN ' South, China' THEN '11'::FLOAT8\n",
    "                    WHEN ' Cuba' THEN '12'::FLOAT8\n",
    "                    WHEN ' Iran' THEN '13'::FLOAT8\n",
    "                    WHEN ' Honduras' THEN '14'::FLOAT8\n",
    "                    WHEN ' Philippines' THEN '15'::FLOAT8\n",
    "                    WHEN ' Italy' THEN '16'::FLOAT8\n",
    "                    WHEN ' Poland' THEN '17'::FLOAT8\n",
    "                    WHEN ' Vietnam' THEN '18'::FLOAT8\n",
    "                    WHEN ' Mexico' THEN '19'::FLOAT8\n",
    "                    WHEN ' Portugal' THEN '20'::FLOAT8\n",
    "                    WHEN ' Ireland' THEN '21'::FLOAT8\n",
    "                    WHEN ' France' THEN '22'::FLOAT8\n",
    "                    WHEN ' Dominican-Republic' THEN '23'::FLOAT8\n",
    "                    WHEN ' Laos' THEN '24'::FLOAT8\n",
    "                    WHEN ' Ecuador' THEN '25'::FLOAT8\n",
    "                    WHEN ' Taiwan' THEN '26'::FLOAT8\n",
    "                    WHEN ' Haiti' THEN '27'::FLOAT8\n",
    "                    WHEN ' Columbia' THEN '28'::FLOAT8\n",
    "                    WHEN ' Hungary' THEN '29'::FLOAT8\n",
    "                    WHEN ' Guatemala' THEN '30'::FLOAT8\n",
    "                    WHEN ' Nicaragua' THEN '31'::FLOAT8\n",
    "                    WHEN ' Scotland' THEN '32'::FLOAT8\n",
    "                    WHEN ' Thailand' THEN '33'::FLOAT8\n",
    "                    WHEN ' Yugoslavia' THEN '34'::FLOAT8\n",
    "                    WHEN ' El-Salvador' THEN '35'::FLOAT8\n",
    "                    WHEN ' Trinadad&Tobago' THEN '36'::FLOAT8\n",
    "                    WHEN ' Peru' THEN '37'::FLOAT8\n",
    "                    WHEN ' Hong' THEN '38'::FLOAT8\n",
    "                    WHEN ' Holand-Netherlands' THEN '39'::FLOAT8\n",
    "                    END AS native_country\n",
    "        ,CASE class \n",
    "                    WHEN ' >50K.' THEN '0'::FLOAT8\n",
    "                    WHEN ' <=50K.' THEN '1'::FLOAT8\n",
    "                    END AS class\n",
    "    FROM adult_test\n",
    ";\n",
    "SELECT * FROM adult_test_parsed LIMIT 5;"
   ]
  },
  {
   "cell_type": "markdown",
   "metadata": {},
   "source": [
    "## 線形モデル作製\n",
    "まずは線形モデルを作成、トレーニングを行う。ARRAYに記載しているカラムを独立変数として選択。"
   ]
  },
  {
   "cell_type": "code",
   "execution_count": 449,
   "metadata": {
    "collapsed": false,
    "scrolled": false
   },
   "outputs": [
    {
     "data": {
      "text/html": [
       "<table>\n",
       "    <tr>\n",
       "        <th>coef</th>\n",
       "        <th>loss</th>\n",
       "        <th>norm_of_gradient</th>\n",
       "        <th>num_iterations</th>\n",
       "        <th>num_rows_processed</th>\n",
       "        <th>num_rows_skipped</th>\n",
       "        <th>dep_var_mapping</th>\n",
       "    </tr>\n",
       "    <tr>\n",
       "        <td>[0.149209009007529, -0.0363348195001957, 0.27651499541279, 1.67171366788677, -33.9858870913864, 0.0278045141390653, 1.39414013066558, 0.183006182555921, -1.37951835928823, 0.00488959391793084, 0.00343621919868571, 0.166854534901831, -0.0824172601010893]</td>\n",
       "        <td>76077.9980464</td>\n",
       "        <td>364549.829656</td>\n",
       "        <td>100</td>\n",
       "        <td>29900</td>\n",
       "        <td>2661</td>\n",
       "        <td>[False, True]</td>\n",
       "    </tr>\n",
       "</table>"
      ],
      "text/plain": [
       "[([0.149209009007529, -0.0363348195001957, 0.27651499541279, 1.67171366788677, -33.9858870913864, 0.0278045141390653, 1.39414013066558, 0.183006182555921, -1.37951835928823, 0.00488959391793084, 0.00343621919868571, 0.166854534901831, -0.0824172601010893], 76077.9980464128, 364549.829656249, 100, 29900L, 2661L, [False, True])]"
      ]
     },
     "execution_count": 449,
     "metadata": {},
     "output_type": "execute_result"
    }
   ],
   "source": [
    "%%sql\n",
    "\n",
    "DROP TABLE IF EXISTS\n",
    "     adult_data_parsed_svm\n",
    "    ,adult_data_parsed_svm_summary\n",
    ";\n",
    "SELECT\n",
    "    madlib.svm_classification(\n",
    "         'adult_data_parsed'\n",
    "        ,'adult_data_parsed_svm'\n",
    "        ,'class = 0.0'\n",
    "        ,'ARRAY[\n",
    "            age\n",
    "            ,workclass\n",
    "            ,education\n",
    "            ,education_num\n",
    "            ,marital_status\n",
    "            ,occupation\n",
    "            ,relationship\n",
    "            ,race\n",
    "            ,sex\n",
    "            ,capital_gain\n",
    "            ,capital_loss\n",
    "            ,hours_per_week\n",
    "            ,native_country\n",
    "         ]'\n",
    "    )\n",
    ";\n",
    "SELECT * FROM adult_data_parsed_svm;"
   ]
  },
  {
   "cell_type": "markdown",
   "metadata": {},
   "source": [
    "## 線形モデルテスト\n",
    "作成したモデルをテストデータを使って評価する。テストデータを使って所得が>50Kか予測させる。"
   ]
  },
  {
   "cell_type": "code",
   "execution_count": 452,
   "metadata": {
    "collapsed": false
   },
   "outputs": [
    {
     "data": {
      "text/html": [
       "<table>\n",
       "    <tr>\n",
       "        <th>index</th>\n",
       "        <th>prediction</th>\n",
       "        <th>decision_function</th>\n",
       "    </tr>\n",
       "    <tr>\n",
       "        <td>0</td>\n",
       "        <td>False</td>\n",
       "        <td>-77.9737555024</td>\n",
       "    </tr>\n",
       "    <tr>\n",
       "        <td>1</td>\n",
       "        <td>False</td>\n",
       "        <td>-2.05605209361</td>\n",
       "    </tr>\n",
       "    <tr>\n",
       "        <td>2</td>\n",
       "        <td>True</td>\n",
       "        <td>0.289557726197</td>\n",
       "    </tr>\n",
       "    <tr>\n",
       "        <td>3</td>\n",
       "        <td>True</td>\n",
       "        <td>36.5569540315</td>\n",
       "    </tr>\n",
       "    <tr>\n",
       "        <td>5</td>\n",
       "        <td>False</td>\n",
       "        <td>-75.2887505237</td>\n",
       "    </tr>\n",
       "    <tr>\n",
       "        <td>7</td>\n",
       "        <td>True</td>\n",
       "        <td>24.0024455574</td>\n",
       "    </tr>\n",
       "    <tr>\n",
       "        <td>8</td>\n",
       "        <td>False</td>\n",
       "        <td>-67.2993069221</td>\n",
       "    </tr>\n",
       "    <tr>\n",
       "        <td>9</td>\n",
       "        <td>False</td>\n",
       "        <td>-13.392109812</td>\n",
       "    </tr>\n",
       "    <tr>\n",
       "        <td>10</td>\n",
       "        <td>True</td>\n",
       "        <td>31.6298505376</td>\n",
       "    </tr>\n",
       "    <tr>\n",
       "        <td>11</td>\n",
       "        <td>True</td>\n",
       "        <td>1.69748525202</td>\n",
       "    </tr>\n",
       "</table>"
      ],
      "text/plain": [
       "[(0L, False, -77.9737555024066),\n",
       " (1L, False, -2.0560520936112),\n",
       " (2L, True, 0.289557726197496),\n",
       " (3L, True, 36.5569540314747),\n",
       " (5L, False, -75.2887505237039),\n",
       " (7L, True, 24.0024455573604),\n",
       " (8L, False, -67.2993069221351),\n",
       " (9L, False, -13.3921098120388),\n",
       " (10L, True, 31.6298505375758),\n",
       " (11L, True, 1.69748525202447)]"
      ]
     },
     "execution_count": 452,
     "metadata": {},
     "output_type": "execute_result"
    }
   ],
   "source": [
    "%%sql\n",
    "\n",
    "DROP TABLE IF EXISTS adult_test_parsed_pred;\n",
    "SELECT\n",
    "    madlib.svm_predict(\n",
    "         'adult_data_parsed_svm'\n",
    "        ,'adult_test_parsed'\n",
    "        ,'index'\n",
    "        ,'adult_test_parsed_pred'\n",
    "    )\n",
    ";\n",
    "SELECT * FROM adult_test_parsed_pred LIMIT 10;"
   ]
  },
  {
   "cell_type": "markdown",
   "metadata": {},
   "source": [
    "## Area under the ROC curve による予測結果の検証を行うため評価用のテーブルを作成する。"
   ]
  },
  {
   "cell_type": "code",
   "execution_count": 454,
   "metadata": {
    "collapsed": false
   },
   "outputs": [
    {
     "data": {
      "text/html": [
       "<table>\n",
       "    <tr>\n",
       "        <th>observed</th>\n",
       "        <th>prediction</th>\n",
       "    </tr>\n",
       "    <tr>\n",
       "        <td>1.0</td>\n",
       "        <td>1.0</td>\n",
       "    </tr>\n",
       "    <tr>\n",
       "        <td>1.0</td>\n",
       "        <td>1.0</td>\n",
       "    </tr>\n",
       "    <tr>\n",
       "        <td>0.0</td>\n",
       "        <td>0.0</td>\n",
       "    </tr>\n",
       "    <tr>\n",
       "        <td>0.0</td>\n",
       "        <td>0.0</td>\n",
       "    </tr>\n",
       "    <tr>\n",
       "        <td>1.0</td>\n",
       "        <td>1.0</td>\n",
       "    </tr>\n",
       "    <tr>\n",
       "        <td>0.0</td>\n",
       "        <td>0.0</td>\n",
       "    </tr>\n",
       "    <tr>\n",
       "        <td>1.0</td>\n",
       "        <td>1.0</td>\n",
       "    </tr>\n",
       "    <tr>\n",
       "        <td>1.0</td>\n",
       "        <td>1.0</td>\n",
       "    </tr>\n",
       "    <tr>\n",
       "        <td>0.0</td>\n",
       "        <td>0.0</td>\n",
       "    </tr>\n",
       "    <tr>\n",
       "        <td>1.0</td>\n",
       "        <td>0.0</td>\n",
       "    </tr>\n",
       "</table>"
      ],
      "text/plain": [
       "[(1.0, 1.0),\n",
       " (1.0, 1.0),\n",
       " (0.0, 0.0),\n",
       " (0.0, 0.0),\n",
       " (1.0, 1.0),\n",
       " (0.0, 0.0),\n",
       " (1.0, 1.0),\n",
       " (1.0, 1.0),\n",
       " (0.0, 0.0),\n",
       " (1.0, 0.0)]"
      ]
     },
     "execution_count": 454,
     "metadata": {},
     "output_type": "execute_result"
    }
   ],
   "source": [
    "%%sql\n",
    "\n",
    "DROP TABLE IF EXISTS adult_test_parsed_pred_roc_input;\n",
    "CREATE TABLE\n",
    "    adult_test_parsed_pred_roc_input\n",
    "AS\n",
    "    SELECT \n",
    "        ob.class::FLOAT8 AS observed\n",
    "        ,CASE pre.prediction\n",
    "            WHEN True THEN '0'::FLOAT8\n",
    "            WHEN False THEN '1'::FLOAT8\n",
    "            END AS prediction\n",
    "    FROM adult_test_parsed_pred AS pre\n",
    "        LEFT OUTER JOIN adult_test_parsed AS ob\n",
    "            ON pre.index = ob.index\n",
    ";\n",
    "SELECT * FROM adult_test_parsed_pred_roc_input LIMIT 10;"
   ]
  },
  {
   "cell_type": "markdown",
   "metadata": {},
   "source": [
    "## area_under_roc 算出"
   ]
  },
  {
   "cell_type": "code",
   "execution_count": 460,
   "metadata": {
    "collapsed": false
   },
   "outputs": [
    {
     "data": {
      "text/html": [
       "<table>\n",
       "    <tr>\n",
       "        <th>area_under_roc</th>\n",
       "    </tr>\n",
       "    <tr>\n",
       "        <td>0.75739088673387834842500000000000000000000</td>\n",
       "    </tr>\n",
       "</table>"
      ],
      "text/plain": [
       "[(Decimal('0.75739088673387834842500000000000000000000'),)]"
      ]
     },
     "execution_count": 460,
     "metadata": {},
     "output_type": "execute_result"
    }
   ],
   "source": [
    "%%sql \n",
    "\n",
    "DROP TABLE IF EXISTS adult_test_parsed_pred_roc_output;\n",
    "SELECT\n",
    "    madlib.area_under_roc(\n",
    "        'adult_test_parsed_pred_roc_input'\n",
    "        ,'adult_test_parsed_pred_roc_output'\n",
    "        ,'prediction'\n",
    "        ,'observed'\n",
    "    )\n",
    ";\n",
    "SELECT * FROM adult_test_parsed_pred_roc_output;"
   ]
  },
  {
   "cell_type": "markdown",
   "metadata": {},
   "source": [
    "## 非線形モデル作製\n",
    "n_componentの値を変えながら複数の非線形モデルを作成して評価する。"
   ]
  },
  {
   "cell_type": "markdown",
   "metadata": {},
   "source": [
    "## n_components=10"
   ]
  },
  {
   "cell_type": "code",
   "execution_count": 462,
   "metadata": {
    "collapsed": false,
    "scrolled": true
   },
   "outputs": [
    {
     "data": {
      "text/html": [
       "<table>\n",
       "    <tr>\n",
       "        <th>coef</th>\n",
       "        <th>loss</th>\n",
       "        <th>norm_of_gradient</th>\n",
       "        <th>num_iterations</th>\n",
       "        <th>num_rows_processed</th>\n",
       "        <th>num_rows_skipped</th>\n",
       "        <th>dep_var_mapping</th>\n",
       "    </tr>\n",
       "    <tr>\n",
       "        <td>[-2.93651172290274, 0.341683783738794, -0.440133878862007, 0.257267436381406, 0.35899688525636, 0.134067316852449, -0.048281495957981, 0.505773126346411, -0.179603594680169, 0.686461643517295]</td>\n",
       "        <td>19719.5132261</td>\n",
       "        <td>106.026378711</td>\n",
       "        <td>160</td>\n",
       "        <td>29900</td>\n",
       "        <td>2661</td>\n",
       "        <td>[False, True]</td>\n",
       "    </tr>\n",
       "</table>"
      ],
      "text/plain": [
       "[([-2.93651172290274, 0.341683783738794, -0.440133878862007, 0.257267436381406, 0.35899688525636, 0.134067316852449, -0.048281495957981, 0.505773126346411, -0.179603594680169, 0.686461643517295], 19719.5132261405, 106.026378710548, 160, 29900L, 2661L, [False, True])]"
      ]
     },
     "execution_count": 462,
     "metadata": {},
     "output_type": "execute_result"
    }
   ],
   "source": [
    "%%sql\n",
    "\n",
    "DROP TABLE IF EXISTS\n",
    "    adult_data_parsed_svm_gaussian_10\n",
    "    ,adult_data_parsed_svm_gaussian_10_summary\n",
    "    ,adult_data_parsed_svm_gaussian_10_random\n",
    "    ;\n",
    "SELECT\n",
    "    madlib.svm_classification(\n",
    "        'adult_data_parsed'\n",
    "        ,'adult_data_parsed_svm_gaussian_10'\n",
    "        ,'class = 0.0'\n",
    "        ,'ARRAY[\n",
    "            workclass\n",
    "            ,education\n",
    "            ,marital_status\n",
    "            ,occupation\n",
    "            ,relationship\n",
    "            ,race\n",
    "            ,sex\n",
    "            ,native_country\n",
    "        ]'\n",
    "        ,'gaussian'\n",
    "        ,'n_components=10'\n",
    "        ,''\n",
    "        ,'init_stepsize=2,\n",
    "            max_iter=200'\n",
    "    )\n",
    ";\n",
    "SELECT * FROM adult_data_parsed_svm_gaussian_10;"
   ]
  },
  {
   "cell_type": "code",
   "execution_count": 463,
   "metadata": {
    "collapsed": false
   },
   "outputs": [
    {
     "data": {
      "text/html": [
       "<table>\n",
       "    <tr>\n",
       "        <th>index</th>\n",
       "        <th>prediction</th>\n",
       "        <th>decision_function</th>\n",
       "    </tr>\n",
       "    <tr>\n",
       "        <td>0</td>\n",
       "        <td>False</td>\n",
       "        <td>-1.32993233113</td>\n",
       "    </tr>\n",
       "    <tr>\n",
       "        <td>1</td>\n",
       "        <td>False</td>\n",
       "        <td>-1.09707010755</td>\n",
       "    </tr>\n",
       "    <tr>\n",
       "        <td>2</td>\n",
       "        <td>True</td>\n",
       "        <td>0.321027412741</td>\n",
       "    </tr>\n",
       "    <tr>\n",
       "        <td>3</td>\n",
       "        <td>False</td>\n",
       "        <td>-2.14599864169</td>\n",
       "    </tr>\n",
       "    <tr>\n",
       "        <td>5</td>\n",
       "        <td>False</td>\n",
       "        <td>-0.597154717257</td>\n",
       "    </tr>\n",
       "    <tr>\n",
       "        <td>7</td>\n",
       "        <td>False</td>\n",
       "        <td>-0.715990222365</td>\n",
       "    </tr>\n",
       "    <tr>\n",
       "        <td>8</td>\n",
       "        <td>False</td>\n",
       "        <td>-1.48916354527</td>\n",
       "    </tr>\n",
       "    <tr>\n",
       "        <td>9</td>\n",
       "        <td>False</td>\n",
       "        <td>-1.24085773818</td>\n",
       "    </tr>\n",
       "    <tr>\n",
       "        <td>10</td>\n",
       "        <td>False</td>\n",
       "        <td>-0.923307390366</td>\n",
       "    </tr>\n",
       "    <tr>\n",
       "        <td>11</td>\n",
       "        <td>True</td>\n",
       "        <td>0.111854319862</td>\n",
       "    </tr>\n",
       "</table>"
      ],
      "text/plain": [
       "[(0L, False, -1.32993233113354),\n",
       " (1L, False, -1.09707010755155),\n",
       " (2L, True, 0.321027412740678),\n",
       " (3L, False, -2.14599864169004),\n",
       " (5L, False, -0.597154717256965),\n",
       " (7L, False, -0.715990222364802),\n",
       " (8L, False, -1.48916354527298),\n",
       " (9L, False, -1.24085773817616),\n",
       " (10L, False, -0.9233073903664),\n",
       " (11L, True, 0.111854319862495)]"
      ]
     },
     "execution_count": 463,
     "metadata": {},
     "output_type": "execute_result"
    }
   ],
   "source": [
    "%%sql\n",
    "\n",
    "DROP TABLE IF EXISTS adult_test_parsed_pred_gaussian_10;\n",
    "SELECT\n",
    "    madlib.svm_predict(\n",
    "        'adult_data_parsed_svm_gaussian_10'\n",
    "        ,'adult_test_parsed'\n",
    "        ,'index'\n",
    "        ,'adult_test_parsed_pred_gaussian_10'\n",
    "    )\n",
    ";\n",
    "SELECT * FROM adult_test_parsed_pred_gaussian_10 LIMIT 10;"
   ]
  },
  {
   "cell_type": "code",
   "execution_count": 466,
   "metadata": {
    "collapsed": false
   },
   "outputs": [
    {
     "data": {
      "text/html": [
       "<table>\n",
       "    <tr>\n",
       "        <th>observed</th>\n",
       "        <th>prediction</th>\n",
       "    </tr>\n",
       "    <tr>\n",
       "        <td>1.0</td>\n",
       "        <td>1.0</td>\n",
       "    </tr>\n",
       "    <tr>\n",
       "        <td>1.0</td>\n",
       "        <td>1.0</td>\n",
       "    </tr>\n",
       "    <tr>\n",
       "        <td>0.0</td>\n",
       "        <td>0.0</td>\n",
       "    </tr>\n",
       "    <tr>\n",
       "        <td>0.0</td>\n",
       "        <td>1.0</td>\n",
       "    </tr>\n",
       "    <tr>\n",
       "        <td>1.0</td>\n",
       "        <td>1.0</td>\n",
       "    </tr>\n",
       "    <tr>\n",
       "        <td>0.0</td>\n",
       "        <td>1.0</td>\n",
       "    </tr>\n",
       "    <tr>\n",
       "        <td>1.0</td>\n",
       "        <td>1.0</td>\n",
       "    </tr>\n",
       "    <tr>\n",
       "        <td>1.0</td>\n",
       "        <td>1.0</td>\n",
       "    </tr>\n",
       "    <tr>\n",
       "        <td>0.0</td>\n",
       "        <td>1.0</td>\n",
       "    </tr>\n",
       "    <tr>\n",
       "        <td>1.0</td>\n",
       "        <td>0.0</td>\n",
       "    </tr>\n",
       "</table>"
      ],
      "text/plain": [
       "[(1.0, 1.0),\n",
       " (1.0, 1.0),\n",
       " (0.0, 0.0),\n",
       " (0.0, 1.0),\n",
       " (1.0, 1.0),\n",
       " (0.0, 1.0),\n",
       " (1.0, 1.0),\n",
       " (1.0, 1.0),\n",
       " (0.0, 1.0),\n",
       " (1.0, 0.0)]"
      ]
     },
     "execution_count": 466,
     "metadata": {},
     "output_type": "execute_result"
    }
   ],
   "source": [
    "%%sql\n",
    "\n",
    "DROP TABLE IF EXISTS adult_test_parsed_pred_gaussian_10_roc_input;\n",
    "CREATE TABLE\n",
    "    adult_test_parsed_pred_gaussian_10_roc_input\n",
    "AS\n",
    "    SELECT\n",
    "        ob.class::FLOAT8 AS observed\n",
    "        ,CASE pre.prediction\n",
    "            WHEN True THEN '0.0'::FLOAT8\n",
    "            WHEN False THEN '1.0'::FLOAT8\n",
    "            END AS prediction\n",
    "    FROM adult_test_parsed_pred_gaussian_10 AS pre\n",
    "            LEFT OUTER JOIN adult_test_parsed AS ob\n",
    "                ON pre.index = ob.index\n",
    ";\n",
    "SELECT * FROM adult_test_parsed_pred_gaussian_10_roc_input LIMIT 10;"
   ]
  },
  {
   "cell_type": "code",
   "execution_count": 469,
   "metadata": {
    "collapsed": false
   },
   "outputs": [
    {
     "data": {
      "text/html": [
       "<table>\n",
       "    <tr>\n",
       "        <th>area_under_roc</th>\n",
       "    </tr>\n",
       "    <tr>\n",
       "        <td>0.53230553708029699758500000000000000000000</td>\n",
       "    </tr>\n",
       "</table>"
      ],
      "text/plain": [
       "[(Decimal('0.53230553708029699758500000000000000000000'),)]"
      ]
     },
     "execution_count": 469,
     "metadata": {},
     "output_type": "execute_result"
    }
   ],
   "source": [
    "%%sql \n",
    "\n",
    "DROP TABLE IF EXISTS adult_test_parsed_pred_gaussian_10_roc_output;\n",
    "SELECT\n",
    "    madlib.area_under_roc(\n",
    "        'adult_test_parsed_pred_gaussian_10_roc_input'\n",
    "        ,'adult_test_parsed_pred_gaussian_10_roc_output'\n",
    "        ,'prediction'\n",
    "        ,'observed'\n",
    "    )\n",
    ";\n",
    "SELECT * FROM adult_test_parsed_pred_gaussian_10_roc_output;"
   ]
  },
  {
   "cell_type": "markdown",
   "metadata": {},
   "source": [
    "## n_components=20"
   ]
  },
  {
   "cell_type": "code",
   "execution_count": 470,
   "metadata": {
    "collapsed": false
   },
   "outputs": [
    {
     "data": {
      "text/html": [
       "<table>\n",
       "    <tr>\n",
       "        <th>coef</th>\n",
       "        <th>loss</th>\n",
       "        <th>norm_of_gradient</th>\n",
       "        <th>num_iterations</th>\n",
       "        <th>num_rows_processed</th>\n",
       "        <th>num_rows_skipped</th>\n",
       "        <th>dep_var_mapping</th>\n",
       "    </tr>\n",
       "    <tr>\n",
       "        <td>[-3.86814810268387, 0.449707764693438, -0.755980138466978, 0.181375858849701, 0.829237319869862, 0.00458928801845787, 0.171058151350693, -0.513100445299128, -0.430969534150961, 0.105338585609318, -0.237240804803337, 0.359755473290516, -0.335599590033492, 0.135979395068039, -0.0112713606630472, -0.274565699889732, -0.931919949164275, -0.860925475812818, 0.321416675647694, -1.0238848578281]</td>\n",
       "        <td>18849.1150496</td>\n",
       "        <td>89.7174444837</td>\n",
       "        <td>183</td>\n",
       "        <td>29900</td>\n",
       "        <td>2661</td>\n",
       "        <td>[False, True]</td>\n",
       "    </tr>\n",
       "</table>"
      ],
      "text/plain": [
       "[([-3.86814810268387, 0.449707764693438, -0.755980138466978, 0.181375858849701, 0.829237319869862, 0.00458928801845787, 0.171058151350693, -0.513100445299128, -0.430969534150961, 0.105338585609318, -0.237240804803337, 0.359755473290516, -0.335599590033492, 0.135979395068039, -0.0112713606630472, -0.274565699889732, -0.931919949164275, -0.860925475812818, 0.321416675647694, -1.0238848578281], 18849.115049578, 89.717444483707, 183, 29900L, 2661L, [False, True])]"
      ]
     },
     "execution_count": 470,
     "metadata": {},
     "output_type": "execute_result"
    }
   ],
   "source": [
    "%%sql\n",
    "\n",
    "DROP TABLE IF EXISTS\n",
    "    adult_data_parsed_svm_gaussian_20\n",
    "    ,adult_data_parsed_svm_gaussian_20_summary\n",
    "    ,adult_data_parsed_svm_gaussian_20_random\n",
    ";\n",
    "SELECT\n",
    "    madlib.svm_classification(\n",
    "        'adult_data_parsed'\n",
    "        ,'adult_data_parsed_svm_gaussian_20'\n",
    "        ,'class = 0.0'\n",
    "        ,'ARRAY[\n",
    "            workclass\n",
    "            ,education\n",
    "            ,marital_status\n",
    "            ,occupation\n",
    "            ,relationship\n",
    "            ,race\n",
    "            ,sex\n",
    "            ,native_country\n",
    "        ]'\n",
    "        ,'gaussian'\n",
    "        ,'n_components=20'\n",
    "        ,''\n",
    "        ,'init_stepsize=2,\n",
    "            max_iter=200'\n",
    "    )\n",
    ";\n",
    "SELECT * FROM adult_data_parsed_svm_gaussian_20;"
   ]
  },
  {
   "cell_type": "code",
   "execution_count": 471,
   "metadata": {
    "collapsed": false
   },
   "outputs": [
    {
     "data": {
      "text/html": [
       "<table>\n",
       "    <tr>\n",
       "        <th>index</th>\n",
       "        <th>prediction</th>\n",
       "        <th>decision_function</th>\n",
       "    </tr>\n",
       "    <tr>\n",
       "        <td>0</td>\n",
       "        <td>False</td>\n",
       "        <td>-1.17190698142</td>\n",
       "    </tr>\n",
       "    <tr>\n",
       "        <td>1</td>\n",
       "        <td>False</td>\n",
       "        <td>-1.18132717988</td>\n",
       "    </tr>\n",
       "    <tr>\n",
       "        <td>2</td>\n",
       "        <td>False</td>\n",
       "        <td>-0.0445688331689</td>\n",
       "    </tr>\n",
       "    <tr>\n",
       "        <td>3</td>\n",
       "        <td>False</td>\n",
       "        <td>-1.77818365967</td>\n",
       "    </tr>\n",
       "    <tr>\n",
       "        <td>5</td>\n",
       "        <td>False</td>\n",
       "        <td>-0.971939899064</td>\n",
       "    </tr>\n",
       "    <tr>\n",
       "        <td>7</td>\n",
       "        <td>False</td>\n",
       "        <td>-0.874358793898</td>\n",
       "    </tr>\n",
       "    <tr>\n",
       "        <td>8</td>\n",
       "        <td>False</td>\n",
       "        <td>-0.882414054576</td>\n",
       "    </tr>\n",
       "    <tr>\n",
       "        <td>9</td>\n",
       "        <td>False</td>\n",
       "        <td>-1.65001996431</td>\n",
       "    </tr>\n",
       "    <tr>\n",
       "        <td>10</td>\n",
       "        <td>False</td>\n",
       "        <td>-1.00112560513</td>\n",
       "    </tr>\n",
       "    <tr>\n",
       "        <td>11</td>\n",
       "        <td>False</td>\n",
       "        <td>-0.131453982087</td>\n",
       "    </tr>\n",
       "</table>"
      ],
      "text/plain": [
       "[(0L, False, -1.1719069814169),\n",
       " (1L, False, -1.18132717988243),\n",
       " (2L, False, -0.044568833168871),\n",
       " (3L, False, -1.7781836596666),\n",
       " (5L, False, -0.971939899064413),\n",
       " (7L, False, -0.874358793897863),\n",
       " (8L, False, -0.882414054576078),\n",
       " (9L, False, -1.65001996431221),\n",
       " (10L, False, -1.00112560512813),\n",
       " (11L, False, -0.131453982087394)]"
      ]
     },
     "execution_count": 471,
     "metadata": {},
     "output_type": "execute_result"
    }
   ],
   "source": [
    "%%sql\n",
    "\n",
    "DROP TABLE IF EXISTS adult_test_parsed_pred_gaussian_20;\n",
    "SELECT\n",
    "    madlib.svm_predict(\n",
    "        'adult_data_parsed_svm_gaussian_20'\n",
    "        ,'adult_test_parsed'\n",
    "        ,'index'\n",
    "        ,'adult_test_parsed_pred_gaussian_20'\n",
    "    )\n",
    ";\n",
    "SELECT * FROM adult_test_parsed_pred_gaussian_20 LIMIT 10;"
   ]
  },
  {
   "cell_type": "code",
   "execution_count": 472,
   "metadata": {
    "collapsed": false
   },
   "outputs": [
    {
     "data": {
      "text/html": [
       "<table>\n",
       "    <tr>\n",
       "        <th>observed</th>\n",
       "        <th>prediction</th>\n",
       "    </tr>\n",
       "    <tr>\n",
       "        <td>1.0</td>\n",
       "        <td>1.0</td>\n",
       "    </tr>\n",
       "    <tr>\n",
       "        <td>1.0</td>\n",
       "        <td>1.0</td>\n",
       "    </tr>\n",
       "    <tr>\n",
       "        <td>0.0</td>\n",
       "        <td>1.0</td>\n",
       "    </tr>\n",
       "    <tr>\n",
       "        <td>0.0</td>\n",
       "        <td>1.0</td>\n",
       "    </tr>\n",
       "    <tr>\n",
       "        <td>1.0</td>\n",
       "        <td>1.0</td>\n",
       "    </tr>\n",
       "    <tr>\n",
       "        <td>0.0</td>\n",
       "        <td>1.0</td>\n",
       "    </tr>\n",
       "    <tr>\n",
       "        <td>1.0</td>\n",
       "        <td>1.0</td>\n",
       "    </tr>\n",
       "    <tr>\n",
       "        <td>1.0</td>\n",
       "        <td>1.0</td>\n",
       "    </tr>\n",
       "    <tr>\n",
       "        <td>0.0</td>\n",
       "        <td>1.0</td>\n",
       "    </tr>\n",
       "    <tr>\n",
       "        <td>1.0</td>\n",
       "        <td>1.0</td>\n",
       "    </tr>\n",
       "</table>"
      ],
      "text/plain": [
       "[(1.0, 1.0),\n",
       " (1.0, 1.0),\n",
       " (0.0, 1.0),\n",
       " (0.0, 1.0),\n",
       " (1.0, 1.0),\n",
       " (0.0, 1.0),\n",
       " (1.0, 1.0),\n",
       " (1.0, 1.0),\n",
       " (0.0, 1.0),\n",
       " (1.0, 1.0)]"
      ]
     },
     "execution_count": 472,
     "metadata": {},
     "output_type": "execute_result"
    }
   ],
   "source": [
    "%%sql\n",
    "\n",
    "DROP TABLE IF EXISTS adult_test_parsed_pred_gaussian_20_roc_input;\n",
    "CREATE TABLE\n",
    "    adult_test_parsed_pred_gaussian_20_roc_input\n",
    "AS\n",
    "    SELECT\n",
    "        ob.class::FLOAT8 AS observed\n",
    "        ,CASE pre.prediction\n",
    "            WHEN True THEN '0.0'::FLOAT8\n",
    "            WHEN False THEN '1.0'::FLOAT8\n",
    "            END AS prediction\n",
    "    FROM adult_test_parsed_pred_gaussian_20 AS pre\n",
    "            LEFT OUTER JOIN adult_test_parsed AS ob\n",
    "                ON pre.index = ob.index\n",
    ";\n",
    "SELECT * FROM adult_test_parsed_pred_gaussian_20_roc_input LIMIT 10;"
   ]
  },
  {
   "cell_type": "code",
   "execution_count": 473,
   "metadata": {
    "collapsed": false
   },
   "outputs": [
    {
     "data": {
      "text/html": [
       "<table>\n",
       "    <tr>\n",
       "        <th>area_under_roc</th>\n",
       "    </tr>\n",
       "    <tr>\n",
       "        <td>0.52747277189892029985000000000000000000000</td>\n",
       "    </tr>\n",
       "</table>"
      ],
      "text/plain": [
       "[(Decimal('0.52747277189892029985000000000000000000000'),)]"
      ]
     },
     "execution_count": 473,
     "metadata": {},
     "output_type": "execute_result"
    }
   ],
   "source": [
    "%%sql \n",
    "\n",
    "DROP TABLE IF EXISTS adult_test_parsed_pred_gaussian_20_roc_output;\n",
    "SELECT\n",
    "    madlib.area_under_roc(\n",
    "        'adult_test_parsed_pred_gaussian_20_roc_input'\n",
    "        ,'adult_test_parsed_pred_gaussian_20_roc_output'\n",
    "        ,'prediction'\n",
    "        ,'observed'\n",
    "    )\n",
    ";\n",
    "SELECT * FROM adult_test_parsed_pred_gaussian_20_roc_output;"
   ]
  },
  {
   "cell_type": "markdown",
   "metadata": {},
   "source": [
    "## n_components=30"
   ]
  },
  {
   "cell_type": "code",
   "execution_count": 474,
   "metadata": {
    "collapsed": false
   },
   "outputs": [
    {
     "data": {
      "text/html": [
       "<table>\n",
       "    <tr>\n",
       "        <th>coef</th>\n",
       "        <th>loss</th>\n",
       "        <th>norm_of_gradient</th>\n",
       "        <th>num_iterations</th>\n",
       "        <th>num_rows_processed</th>\n",
       "        <th>num_rows_skipped</th>\n",
       "        <th>dep_var_mapping</th>\n",
       "    </tr>\n",
       "    <tr>\n",
       "        <td>[-4.89899524001805, 0.502068590111403, -0.448432712468678, -0.264644263446127, 0.953312188977701, 0.542099805581305, -0.0491652636454902, -1.46433389026839, -0.694065328395931, 1.07884194353142, -0.539551708488271, 0.00681979333013868, -0.356586988637732, 0.0622683338217195, 0.277744926344081, -0.432933514181231, -2.21751016511408, -0.267193976008079, -0.510322287251929, -1.51443422598838, 0.0687754778661905, 0.711737438466957, 0.0931018297577553, 0.535800897591793, -0.246127314688611, 2.62781277064238, 0.144360687030306, 0.628837085118467, -0.296165387275386, 0.119662047659125]</td>\n",
       "        <td>17647.5505522</td>\n",
       "        <td>273.251910947</td>\n",
       "        <td>194</td>\n",
       "        <td>29900</td>\n",
       "        <td>2661</td>\n",
       "        <td>[False, True]</td>\n",
       "    </tr>\n",
       "</table>"
      ],
      "text/plain": [
       "[([-4.89899524001805, 0.502068590111403, -0.448432712468678, -0.264644263446127, 0.953312188977701, 0.542099805581305, -0.0491652636454902, -1.46433389026839, -0.694065328395931, 1.07884194353142, -0.539551708488271, 0.00681979333013868, -0.356586988637732, 0.0622683338217195, 0.277744926344081, -0.432933514181231, -2.21751016511408, -0.267193976008079, -0.510322287251929, -1.51443422598838, 0.0687754778661905, 0.711737438466957, 0.0931018297577553, 0.535800897591793, -0.246127314688611, 2.62781277064238, 0.144360687030306, 0.628837085118467, -0.296165387275386, 0.119662047659125], 17647.5505522275, 273.251910947489, 194, 29900L, 2661L, [False, True])]"
      ]
     },
     "execution_count": 474,
     "metadata": {},
     "output_type": "execute_result"
    }
   ],
   "source": [
    "%%sql\n",
    "\n",
    "DROP TABLE IF EXISTS\n",
    "    adult_data_parsed_svm_gaussian_30\n",
    "    ,adult_data_parsed_svm_gaussian_30_summary\n",
    "    ,adult_data_parsed_svm_gaussian_30_random\n",
    ";\n",
    "SELECT\n",
    "    madlib.svm_classification(\n",
    "        'adult_data_parsed'\n",
    "        ,'adult_data_parsed_svm_gaussian_30'\n",
    "        ,'class = 0.0'\n",
    "        ,'ARRAY[\n",
    "            workclass\n",
    "            ,education\n",
    "            ,marital_status\n",
    "            ,occupation\n",
    "            ,relationship\n",
    "            ,race\n",
    "            ,sex\n",
    "            ,native_country\n",
    "        ]'\n",
    "        ,'gaussian'\n",
    "        ,'n_components=30'\n",
    "        ,''\n",
    "        ,'init_stepsize=2,\n",
    "            max_iter=200'\n",
    "    )\n",
    ";\n",
    "SELECT * FROM adult_data_parsed_svm_gaussian_30;"
   ]
  },
  {
   "cell_type": "code",
   "execution_count": 475,
   "metadata": {
    "collapsed": false
   },
   "outputs": [
    {
     "data": {
      "text/html": [
       "<table>\n",
       "    <tr>\n",
       "        <th>index</th>\n",
       "        <th>prediction</th>\n",
       "        <th>decision_function</th>\n",
       "    </tr>\n",
       "    <tr>\n",
       "        <td>0</td>\n",
       "        <td>False</td>\n",
       "        <td>-1.14259429013</td>\n",
       "    </tr>\n",
       "    <tr>\n",
       "        <td>1</td>\n",
       "        <td>False</td>\n",
       "        <td>-1.27152168076</td>\n",
       "    </tr>\n",
       "    <tr>\n",
       "        <td>2</td>\n",
       "        <td>False</td>\n",
       "        <td>-0.207596574986</td>\n",
       "    </tr>\n",
       "    <tr>\n",
       "        <td>3</td>\n",
       "        <td>False</td>\n",
       "        <td>-1.05631585258</td>\n",
       "    </tr>\n",
       "    <tr>\n",
       "        <td>5</td>\n",
       "        <td>False</td>\n",
       "        <td>-0.946978327983</td>\n",
       "    </tr>\n",
       "    <tr>\n",
       "        <td>7</td>\n",
       "        <td>False</td>\n",
       "        <td>-0.896884632668</td>\n",
       "    </tr>\n",
       "    <tr>\n",
       "        <td>8</td>\n",
       "        <td>False</td>\n",
       "        <td>-1.09335208809</td>\n",
       "    </tr>\n",
       "    <tr>\n",
       "        <td>9</td>\n",
       "        <td>False</td>\n",
       "        <td>-1.52032030881</td>\n",
       "    </tr>\n",
       "    <tr>\n",
       "        <td>10</td>\n",
       "        <td>False</td>\n",
       "        <td>-0.999999955925</td>\n",
       "    </tr>\n",
       "    <tr>\n",
       "        <td>11</td>\n",
       "        <td>True</td>\n",
       "        <td>0.154337355323</td>\n",
       "    </tr>\n",
       "</table>"
      ],
      "text/plain": [
       "[(0L, False, -1.1425942901284),\n",
       " (1L, False, -1.27152168075526),\n",
       " (2L, False, -0.20759657498609),\n",
       " (3L, False, -1.0563158525784),\n",
       " (5L, False, -0.946978327982519),\n",
       " (7L, False, -0.896884632668457),\n",
       " (8L, False, -1.0933520880863),\n",
       " (9L, False, -1.52032030880891),\n",
       " (10L, False, -0.999999955924905),\n",
       " (11L, True, 0.154337355322884)]"
      ]
     },
     "execution_count": 475,
     "metadata": {},
     "output_type": "execute_result"
    }
   ],
   "source": [
    "%%sql\n",
    "\n",
    "DROP TABLE IF EXISTS adult_test_parsed_pred_gaussian_30;\n",
    "SELECT\n",
    "    madlib.svm_predict(\n",
    "        'adult_data_parsed_svm_gaussian_30'\n",
    "        ,'adult_test_parsed'\n",
    "        ,'index'\n",
    "        ,'adult_test_parsed_pred_gaussian_30'\n",
    "    )\n",
    ";\n",
    "SELECT * FROM adult_test_parsed_pred_gaussian_30 LIMIT 10;"
   ]
  },
  {
   "cell_type": "code",
   "execution_count": 476,
   "metadata": {
    "collapsed": false
   },
   "outputs": [
    {
     "data": {
      "text/html": [
       "<table>\n",
       "    <tr>\n",
       "        <th>observed</th>\n",
       "        <th>prediction</th>\n",
       "    </tr>\n",
       "    <tr>\n",
       "        <td>1.0</td>\n",
       "        <td>1.0</td>\n",
       "    </tr>\n",
       "    <tr>\n",
       "        <td>1.0</td>\n",
       "        <td>1.0</td>\n",
       "    </tr>\n",
       "    <tr>\n",
       "        <td>0.0</td>\n",
       "        <td>1.0</td>\n",
       "    </tr>\n",
       "    <tr>\n",
       "        <td>0.0</td>\n",
       "        <td>1.0</td>\n",
       "    </tr>\n",
       "    <tr>\n",
       "        <td>1.0</td>\n",
       "        <td>1.0</td>\n",
       "    </tr>\n",
       "    <tr>\n",
       "        <td>0.0</td>\n",
       "        <td>1.0</td>\n",
       "    </tr>\n",
       "    <tr>\n",
       "        <td>1.0</td>\n",
       "        <td>1.0</td>\n",
       "    </tr>\n",
       "    <tr>\n",
       "        <td>1.0</td>\n",
       "        <td>1.0</td>\n",
       "    </tr>\n",
       "    <tr>\n",
       "        <td>0.0</td>\n",
       "        <td>1.0</td>\n",
       "    </tr>\n",
       "    <tr>\n",
       "        <td>1.0</td>\n",
       "        <td>0.0</td>\n",
       "    </tr>\n",
       "</table>"
      ],
      "text/plain": [
       "[(1.0, 1.0),\n",
       " (1.0, 1.0),\n",
       " (0.0, 1.0),\n",
       " (0.0, 1.0),\n",
       " (1.0, 1.0),\n",
       " (0.0, 1.0),\n",
       " (1.0, 1.0),\n",
       " (1.0, 1.0),\n",
       " (0.0, 1.0),\n",
       " (1.0, 0.0)]"
      ]
     },
     "execution_count": 476,
     "metadata": {},
     "output_type": "execute_result"
    }
   ],
   "source": [
    "%%sql\n",
    "\n",
    "DROP TABLE IF EXISTS adult_test_parsed_pred_gaussian_30_roc_input;\n",
    "CREATE TABLE\n",
    "    adult_test_parsed_pred_gaussian_30_roc_input\n",
    "AS\n",
    "    SELECT\n",
    "        ob.class::FLOAT8 AS observed\n",
    "        ,CASE pre.prediction\n",
    "            WHEN True THEN '0.0'::FLOAT8\n",
    "            WHEN False THEN '1.0'::FLOAT8\n",
    "            END AS prediction\n",
    "    FROM adult_test_parsed_pred_gaussian_30 AS pre\n",
    "            LEFT OUTER JOIN adult_test_parsed AS ob\n",
    "                ON pre.index = ob.index\n",
    ";\n",
    "SELECT * FROM adult_test_parsed_pred_gaussian_30_roc_input LIMIT 10;"
   ]
  },
  {
   "cell_type": "code",
   "execution_count": 477,
   "metadata": {
    "collapsed": false
   },
   "outputs": [
    {
     "data": {
      "text/html": [
       "<table>\n",
       "    <tr>\n",
       "        <th>area_under_roc</th>\n",
       "    </tr>\n",
       "    <tr>\n",
       "        <td>0.61805934273185341981500000000000000000000</td>\n",
       "    </tr>\n",
       "</table>"
      ],
      "text/plain": [
       "[(Decimal('0.61805934273185341981500000000000000000000'),)]"
      ]
     },
     "execution_count": 477,
     "metadata": {},
     "output_type": "execute_result"
    }
   ],
   "source": [
    "%%sql \n",
    "\n",
    "DROP TABLE IF EXISTS adult_test_parsed_pred_gaussian_30_roc_output;\n",
    "SELECT\n",
    "    madlib.area_under_roc(\n",
    "        'adult_test_parsed_pred_gaussian_30_roc_input'\n",
    "        ,'adult_test_parsed_pred_gaussian_30_roc_output'\n",
    "        ,'prediction'\n",
    "        ,'observed'\n",
    "    )\n",
    ";\n",
    "SELECT * FROM adult_test_parsed_pred_gaussian_30_roc_output;"
   ]
  },
  {
   "cell_type": "markdown",
   "metadata": {},
   "source": [
    "## n_components=40"
   ]
  },
  {
   "cell_type": "code",
   "execution_count": 478,
   "metadata": {
    "collapsed": false
   },
   "outputs": [
    {
     "data": {
      "text/html": [
       "<table>\n",
       "    <tr>\n",
       "        <th>coef</th>\n",
       "        <th>loss</th>\n",
       "        <th>norm_of_gradient</th>\n",
       "        <th>num_iterations</th>\n",
       "        <th>num_rows_processed</th>\n",
       "        <th>num_rows_skipped</th>\n",
       "        <th>dep_var_mapping</th>\n",
       "    </tr>\n",
       "    <tr>\n",
       "        <td>[-4.88484314019201, 0.536204691911348, -1.27689416201869, -0.397085816795131, 1.16781310467534, 0.603824276083918, -0.0903523770323435, -1.61516267518376, -0.512712743985378, 1.58585108956316, -0.589430217592102, -0.694512246389889, -0.751021698709412, 0.770702693019932, 0.290135390494713, -0.429994127137603, -2.73049804431851, -0.423242109692993, -0.762852709237821, -1.89291388009236, -0.195074127605914, 0.431432035565612, 0.194014387093558, -0.292411939725685, -0.318556318845158, 1.87150422933071, -0.0919452127657904, 0.884950245249454, -0.184842415790891, 0.00634895368966422, -1.75886473453548, -0.693352426131809, 1.22592506673662, 0.0349468994590692, 0.829953797887951, 0.905333260868029, -0.235126637148866, 2.5739680904738, 0.678486783527511, 0.704528701931597]</td>\n",
       "        <td>16803.2914882</td>\n",
       "        <td>218.945039033</td>\n",
       "        <td>193</td>\n",
       "        <td>29900</td>\n",
       "        <td>2661</td>\n",
       "        <td>[False, True]</td>\n",
       "    </tr>\n",
       "</table>"
      ],
      "text/plain": [
       "[([-4.88484314019201, 0.536204691911348, -1.27689416201869, -0.397085816795131, 1.16781310467534, 0.603824276083918, -0.0903523770323435, -1.61516267518376, -0.512712743985378, 1.58585108956316, -0.589430217592102, -0.694512246389889, -0.751021698709412, 0.770702693019932, 0.290135390494713, -0.429994127137603, -2.73049804431851, -0.423242109692993, -0.762852709237821, -1.89291388009236, -0.195074127605914, 0.431432035565612, 0.194014387093558, -0.292411939725685, -0.318556318845158, 1.87150422933071, -0.0919452127657904, 0.884950245249454, -0.184842415790891, 0.00634895368966422, -1.75886473453548, -0.693352426131809, 1.22592506673662, 0.0349468994590692, 0.829953797887951, 0.905333260868029, -0.235126637148866, 2.5739680904738, 0.678486783527511, 0.704528701931597], 16803.2914881777, 218.945039033248, 193, 29900L, 2661L, [False, True])]"
      ]
     },
     "execution_count": 478,
     "metadata": {},
     "output_type": "execute_result"
    }
   ],
   "source": [
    "%%sql\n",
    "\n",
    "DROP TABLE IF EXISTS\n",
    "    adult_data_parsed_svm_gaussian_40\n",
    "    ,adult_data_parsed_svm_gaussian_40_summary\n",
    "    ,adult_data_parsed_svm_gaussian_40_random\n",
    ";\n",
    "SELECT\n",
    "    madlib.svm_classification(\n",
    "        'adult_data_parsed'\n",
    "        ,'adult_data_parsed_svm_gaussian_40'\n",
    "        ,'class = 0.0'\n",
    "        ,'ARRAY[\n",
    "            workclass\n",
    "            ,education\n",
    "            ,marital_status\n",
    "            ,occupation\n",
    "            ,relationship\n",
    "            ,race\n",
    "            ,sex\n",
    "            ,native_country\n",
    "        ]'\n",
    "        ,'gaussian'\n",
    "        ,'n_components=40'\n",
    "        ,''\n",
    "        ,'init_stepsize=2,\n",
    "            max_iter=200'\n",
    "    )\n",
    ";\n",
    "SELECT * FROM adult_data_parsed_svm_gaussian_40;"
   ]
  },
  {
   "cell_type": "code",
   "execution_count": 479,
   "metadata": {
    "collapsed": false
   },
   "outputs": [
    {
     "data": {
      "text/html": [
       "<table>\n",
       "    <tr>\n",
       "        <th>index</th>\n",
       "        <th>prediction</th>\n",
       "        <th>decision_function</th>\n",
       "    </tr>\n",
       "    <tr>\n",
       "        <td>0</td>\n",
       "        <td>False</td>\n",
       "        <td>-1.47216629147</td>\n",
       "    </tr>\n",
       "    <tr>\n",
       "        <td>1</td>\n",
       "        <td>False</td>\n",
       "        <td>-1.29243941586</td>\n",
       "    </tr>\n",
       "    <tr>\n",
       "        <td>2</td>\n",
       "        <td>False</td>\n",
       "        <td>-0.501686418949</td>\n",
       "    </tr>\n",
       "    <tr>\n",
       "        <td>3</td>\n",
       "        <td>False</td>\n",
       "        <td>-1.00116038862</td>\n",
       "    </tr>\n",
       "    <tr>\n",
       "        <td>5</td>\n",
       "        <td>False</td>\n",
       "        <td>-1.41009743909</td>\n",
       "    </tr>\n",
       "    <tr>\n",
       "        <td>7</td>\n",
       "        <td>False</td>\n",
       "        <td>-0.881206391154</td>\n",
       "    </tr>\n",
       "    <tr>\n",
       "        <td>8</td>\n",
       "        <td>False</td>\n",
       "        <td>-1.56859401587</td>\n",
       "    </tr>\n",
       "    <tr>\n",
       "        <td>9</td>\n",
       "        <td>False</td>\n",
       "        <td>-1.40380233705</td>\n",
       "    </tr>\n",
       "    <tr>\n",
       "        <td>10</td>\n",
       "        <td>False</td>\n",
       "        <td>-0.999999944356</td>\n",
       "    </tr>\n",
       "    <tr>\n",
       "        <td>11</td>\n",
       "        <td>False</td>\n",
       "        <td>-0.0198800864604</td>\n",
       "    </tr>\n",
       "</table>"
      ],
      "text/plain": [
       "[(0L, False, -1.47216629146878),\n",
       " (1L, False, -1.29243941585987),\n",
       " (2L, False, -0.501686418948927),\n",
       " (3L, False, -1.00116038861827),\n",
       " (5L, False, -1.41009743909464),\n",
       " (7L, False, -0.881206391153893),\n",
       " (8L, False, -1.56859401586825),\n",
       " (9L, False, -1.4038023370468),\n",
       " (10L, False, -0.999999944355699),\n",
       " (11L, False, -0.0198800864603592)]"
      ]
     },
     "execution_count": 479,
     "metadata": {},
     "output_type": "execute_result"
    }
   ],
   "source": [
    "%%sql\n",
    "\n",
    "DROP TABLE IF EXISTS adult_test_parsed_pred_gaussian_40;\n",
    "SELECT\n",
    "    madlib.svm_predict(\n",
    "        'adult_data_parsed_svm_gaussian_40'\n",
    "        ,'adult_test_parsed'\n",
    "        ,'index'\n",
    "        ,'adult_test_parsed_pred_gaussian_40'\n",
    "    )\n",
    ";\n",
    "SELECT * FROM adult_test_parsed_pred_gaussian_40 LIMIT 10;"
   ]
  },
  {
   "cell_type": "code",
   "execution_count": 480,
   "metadata": {
    "collapsed": false
   },
   "outputs": [
    {
     "data": {
      "text/html": [
       "<table>\n",
       "    <tr>\n",
       "        <th>observed</th>\n",
       "        <th>prediction</th>\n",
       "    </tr>\n",
       "    <tr>\n",
       "        <td>1.0</td>\n",
       "        <td>1.0</td>\n",
       "    </tr>\n",
       "    <tr>\n",
       "        <td>1.0</td>\n",
       "        <td>1.0</td>\n",
       "    </tr>\n",
       "    <tr>\n",
       "        <td>0.0</td>\n",
       "        <td>1.0</td>\n",
       "    </tr>\n",
       "    <tr>\n",
       "        <td>0.0</td>\n",
       "        <td>1.0</td>\n",
       "    </tr>\n",
       "    <tr>\n",
       "        <td>1.0</td>\n",
       "        <td>1.0</td>\n",
       "    </tr>\n",
       "    <tr>\n",
       "        <td>0.0</td>\n",
       "        <td>1.0</td>\n",
       "    </tr>\n",
       "    <tr>\n",
       "        <td>1.0</td>\n",
       "        <td>1.0</td>\n",
       "    </tr>\n",
       "    <tr>\n",
       "        <td>1.0</td>\n",
       "        <td>1.0</td>\n",
       "    </tr>\n",
       "    <tr>\n",
       "        <td>0.0</td>\n",
       "        <td>1.0</td>\n",
       "    </tr>\n",
       "    <tr>\n",
       "        <td>1.0</td>\n",
       "        <td>1.0</td>\n",
       "    </tr>\n",
       "</table>"
      ],
      "text/plain": [
       "[(1.0, 1.0),\n",
       " (1.0, 1.0),\n",
       " (0.0, 1.0),\n",
       " (0.0, 1.0),\n",
       " (1.0, 1.0),\n",
       " (0.0, 1.0),\n",
       " (1.0, 1.0),\n",
       " (1.0, 1.0),\n",
       " (0.0, 1.0),\n",
       " (1.0, 1.0)]"
      ]
     },
     "execution_count": 480,
     "metadata": {},
     "output_type": "execute_result"
    }
   ],
   "source": [
    "%%sql\n",
    "\n",
    "DROP TABLE IF EXISTS adult_test_parsed_pred_gaussian_40_roc_input;\n",
    "CREATE TABLE\n",
    "    adult_test_parsed_pred_gaussian_40_roc_input\n",
    "AS\n",
    "    SELECT\n",
    "        ob.class::FLOAT8 AS observed\n",
    "        ,CASE pre.prediction\n",
    "            WHEN True THEN '0.0'::FLOAT8\n",
    "            WHEN False THEN '1.0'::FLOAT8\n",
    "            END AS prediction\n",
    "    FROM adult_test_parsed_pred_gaussian_40 AS pre\n",
    "            LEFT OUTER JOIN adult_test_parsed AS ob\n",
    "                ON pre.index = ob.index\n",
    ";\n",
    "SELECT * FROM adult_test_parsed_pred_gaussian_40_roc_input LIMIT 10;"
   ]
  },
  {
   "cell_type": "code",
   "execution_count": 481,
   "metadata": {
    "collapsed": false
   },
   "outputs": [
    {
     "data": {
      "text/html": [
       "<table>\n",
       "    <tr>\n",
       "        <th>area_under_roc</th>\n",
       "    </tr>\n",
       "    <tr>\n",
       "        <td>0.63083868411053258884500000000000000000000</td>\n",
       "    </tr>\n",
       "</table>"
      ],
      "text/plain": [
       "[(Decimal('0.63083868411053258884500000000000000000000'),)]"
      ]
     },
     "execution_count": 481,
     "metadata": {},
     "output_type": "execute_result"
    }
   ],
   "source": [
    "%%sql \n",
    "\n",
    "DROP TABLE IF EXISTS adult_test_parsed_pred_gaussian_40_roc_output;\n",
    "SELECT\n",
    "    madlib.area_under_roc(\n",
    "        'adult_test_parsed_pred_gaussian_40_roc_input'\n",
    "        ,'adult_test_parsed_pred_gaussian_40_roc_output'\n",
    "        ,'prediction'\n",
    "        ,'observed'\n",
    "    )\n",
    ";\n",
    "SELECT * FROM adult_test_parsed_pred_gaussian_40_roc_output;"
   ]
  },
  {
   "cell_type": "markdown",
   "metadata": {
    "collapsed": false
   },
   "source": [
    "## n_components=1000"
   ]
  },
  {
   "cell_type": "code",
   "execution_count": 482,
   "metadata": {
    "collapsed": false
   },
   "outputs": [
    {
     "data": {
      "text/html": [
       "<table>\n",
       "    <tr>\n",
       "        <th>coef</th>\n",
       "        <th>loss</th>\n",
       "        <th>norm_of_gradient</th>\n",
       "        <th>num_iterations</th>\n",
       "        <th>num_rows_processed</th>\n",
       "        <th>num_rows_skipped</th>\n",
       "        <th>dep_var_mapping</th>\n",
       "    </tr>\n",
       "    <tr>\n",
       "        <td>[-2.01824758710825, 0.142415330341722, -0.406952768146646, 0.323547279368753, 4.02757766368734, -0.736682098940432, -3.90502080708794, 2.09180936648094, -3.27643943025332, -1.78192192853058, -0.452869151390114, -5.79066527242473, -0.733466331531628, -5.68343719987323, -1.18998340218889, -0.88826142820505, -0.251904145544684, 3.88242628207631, -3.11886536657036, -1.90390904010437, 1.80267483350202, -3.69442774749305, -1.7395081067012, 0.991108483711886, -2.24051174401476, 2.09374165192408, -0.855821446232527, 0.565624422007473, -0.47204639432617, 0.673272521128769, -4.18526150826022, 4.50868541923335, 3.28084614597216, -1.83819039852294, 0.209500724447511, 5.91861796059941, 3.55913466083447, 7.81849911968738, 1.74133781387628, 10.1638054272517, -3.22369122918122, 2.37482750253116, -1.03779836354897, -3.66447170193058, 0.0350408516223365, 0.454528613577024, -1.19385053146103, 1.54694978640823, -1.24393227933923, -0.189506571607644, -0.356518047196438, 2.39130821865772, 7.86337290910466, 2.24370088600951, 0.857772317015588, -2.56506851657179, 0.413988496163076, 4.14905378313412, 1.37017732590804, -1.20695730132281, 1.57899457317195, 2.14692974288438, -2.42833341417327, 0.0430553944138281, 1.86211912116226, -0.00165507460752983, -1.21230431073205, 0.491551848744662, -0.24228190027641, 2.54654366294532, 1.63312376257851, 1.75189211712619, 0.348313469337073, 1.08010307456071, 1.4475806032459, 1.17555580372987, -5.24690391659617, 1.91843036934891, 2.72642738408904, -1.67502204100129, 1.03125566874432, -1.98654557542641, -1.14724673575079, 2.95963555880111, -3.1699074879827, 1.56512534015439, 0.280919254004124, 1.8138864319314, -0.799843848181833, -2.70183459617245, -2.6846761941514, 1.23619907454178, 4.83405871474735, -1.41270953582195, 0.163779400439891, 1.85126580362659, 1.64491558086739, -0.844527637738523, 1.93959737692736, 2.34865135591704, 0.145814495126528, -0.181799271294751, -1.54842093618882, 1.75290409031993, 1.08300599596827, 0.57155411177913, 0.399713835898495, -0.958369480412752, -1.24684291230027, 2.50776577918768, 6.05498231494876, -2.11599093772155, 0.260814542957255, 0.759979162442359, -7.18898952998077, 0.987106401364634, 0.498371515691701, -1.62388863377201, -1.62797444257821, -1.89017266630003, 0.819978163941632, 0.214647367818759, 1.91191696646278, 2.21717895881137, -1.21422616142453, 2.49551837719482, 0.647186660849757, 0.402355914533151, -1.31640062446456, -0.420828686024598, 0.0312071422413146, -0.447012810439768, 2.00283150929903, -0.711210981982425, -2.68528453998336, 2.17627634421483, -2.71857339812224, 5.34703351663374, -9.8147617098087, -4.76425179914937, -2.64893634963102, 2.02137004212944, -2.05950517597814, -1.61403641180907, 0.314959378199402, -1.27001755623414, 2.30945628940531, -0.282106657889014, 0.566783026711567, 2.91911067554183, -2.40459624791333, 0.58716948941795, -0.942129981400272, 2.42987958746258, 0.619646152537155, -0.405719120915164, 1.48610165557033, -0.461827462320926, 1.56500890135932, -1.76909198135687, -4.80317363328185, 0.524941154717851, -0.303775487819387, -2.43040103221232, 0.759644931200224, 0.829941848448204, 0.104320093244976, -2.53037580977074, 7.06568231220562, -4.07548770576049, -2.06353582162627, -1.63814180571116, 10.6384521520404, 0.854329429950901, -3.49722500315062, -1.35682982781711, 1.71879363405341, -1.73199583142812, 0.33882492701572, -1.54329725714477, -1.41149069417492, 0.857307173599383, 0.812726529482659, -5.60336383002867, -0.867887255580424, 1.6823572866346, -0.0649239896874719, 1.59075896785058, 0.417983035352976, -5.42700165820152, -0.608482751281484, -1.42562254429006, -2.94367515053271, -0.902577754366346, 0.321585649143886, -0.11001988050023, -1.30383490825469, 0.439353901291115, 0.980601987452019, 1.43484944868761, -0.0370424167254366, 1.55428858674486, 2.77958911896975, 0.127175718220849, 0.0781875801298774, 1.36049288702175, 1.241997993516, -1.37396500558922, 1.83205993866774, -1.46719466945584, 0.81721300634866, -3.38946476136628, -2.85092737888607, -1.53760292288551, 0.596420357577416, -1.07676058151849, -0.986358956595394, -2.80759021160902, 8.62796002607404, -0.90609953306694, 2.42862194119554, 2.41274002606631, 0.294841879078176, 0.179777931395681, -6.32785034891294, 0.0779296831303358, -0.628510321135943, 1.08937582589772, -2.14684458833304, 3.63496189103067, 7.36197601972843, 2.24001720882167, -3.19987555304572, 1.89106177425055, 0.526876009543636, -1.07318314933889, 4.95751347492776, 3.41106623070051, 3.21366407615174, 1.05470715592338, 0.0574346023062929, -4.59111890329718, -2.41628086850112, 1.30862145854652, -1.50713090444051, 2.1831187500181, 2.93280276310908, 0.991533892382647, 0.980188399712388, -2.78387028658602, -0.374861483363181, 2.10436468737492, 1.74619303272059, -2.74453087998132, -3.2326392797732, -0.690069374044381, 2.97716156253064, -4.62383277770297, 3.40399184100349, 2.30809534799524, 0.851669828838599, -0.380474626912707, 6.41822735995989, 0.662735364846171, -3.96321753256218, 7.35246572680609, 1.61878010661309, -0.212139099005121, 1.83975186995664, -0.717885978402878, 0.242922120806054, -0.168780243032213, 0.757385118432017, 0.955577593556555, 2.60845330590662, 0.81328909798238, 1.39679741972812, 1.13063555043757, 1.31823794426527, 1.64856084963928, 5.95311617707755, 1.94238065279933, 1.628509632388, 0.926818527492127, -1.06799862948255, -2.36360286867811, -1.71487252283197, -0.380312706407827, -4.47000214426787, 2.37555737843041, 1.37456776013176, 0.349438400834982, 0.624927544010469, 1.3482552493821, -8.2070942241132, 2.29405924319056, -0.998096772819238, -1.67830494235115, 0.54894241054814, 2.85557189495556, -0.408735041702337, 2.43831107320463, -0.39492518247199, 0.766679491977223, 2.04746471483282, -0.721500221661909, 3.35827124114523, 0.374203733810742, -3.79784780676543, 1.09032444070965, 6.80952216189456, -2.34897225980757, 1.87610305681386, 1.73018860298458, 5.06095888807717, 0.894174419581468, 0.930989974134458, 1.42238213188739, -0.204049093984008, 2.6367186569255, -1.81850923473634, 0.984088570690374, -1.27058044818047, 2.91306390412121, 0.888022337281047, 2.27079103036391, 3.05973330230213, 1.34770866091384, 0.251486897267717, 3.67045433017008, 0.210125995358086, -3.36462511571752, -1.75813800327195, -0.551753590653634, -4.19933456690116, 1.33782389528109, -1.60639258121759, -0.381978043897073, 0.472336481674122, -2.83914124004781, -2.95824331656919, 6.69753440633239, 1.75599005983504, -0.802724459103696, -4.42426141003174, 2.93603023674471, -2.58365680363243, 1.66536377114323, -2.57837538565523, -3.5356900547746, -0.270732968103115, 1.42805803501485, 1.15282036455697, -0.410485490105691, 0.516491361456642, -0.399014026810564, 1.7307206514003, 2.24356543660392, 3.27964731720119, -0.998568941541142, 0.231260274885132, -0.650414349657995, 1.1757993241609, -1.97764406299704, -6.08485915812574, 0.285868770091467, 3.22200395297331, -1.27081103478941, 0.309974066102388, -0.816847158288933, 7.09048985105319, -0.347776745363437, -0.717410706314042, 2.39529049037691, 1.95828983751614, 1.31946959107038, 0.270744910275313, -6.64126177806145, -4.91721436465928, -2.00199977186345, 2.57767762672991, 2.40413810264162, -8.55393724720554, 1.79550584228167, 0.928131230940308, -3.79342074830297, 0.542071648436192, 1.82748116637129, -5.66056944953469, 1.22802673833125, -0.423118413171415, -4.37445296943835, 0.547183232113799, 0.990564193315451, 0.617860889198911, 0.48164785270983, 1.81552554633034, -0.381052215469875, 0.718647941571689, 2.35350278313863, -1.29972669887515, 1.92479895468402, 6.58836895666794, 0.198601211156792, -1.92515935361195, -0.709616311885843, -4.16379182504992, 1.63463247852211, 0.968146366289041, 2.51433518611445, -2.29029836429131, -5.33991570734851, 0.288163574475366, -2.23164743552353, 2.69294491548063, -5.6605076092617, -5.33536081620689, -3.240786835776, -3.2182130555368, 1.18024203194265, -3.79074057405403, -0.719529549754878, -3.33079677183237, -2.80311942206107, -0.6900827264415, 1.39354429275414, 9.23348691193084, 1.2707980598789, 3.24741865601111, 0.548813247839667, -1.12798844017083, 2.2011273208097, -4.14234400484444, 3.3992188024009, 2.03138619720895, -0.466391367515463, -4.66139366903303, -3.77297053501255, -1.73591002598755, -1.87354025437309, -0.195326729941067, -0.995620713149734, 2.11246680483591, -2.74163998576275, 1.15888659813539, 0.111704678747003, 3.07156438749981, 0.254510547873408, -1.92322430715187, -0.860601707314247, -7.84924082048632, -1.98528235691064, -0.912011727866459, -0.971628580133712, 3.81105256582439, -8.07747460607845, -0.743641930678321, 2.24411458228977, -1.4143074945712, 1.53006367805961, 1.43402530485993, -0.417296162776374, -2.42598830711082, -0.94558163737544, 1.09018801842302, -1.33496782153588, 2.50101251860882, 5.77255858724619, -2.02436427239368, -0.874502570122143, -1.02158088227658, -0.456099914639248, 4.3506735419001, 3.1798993009928, 0.162724552735261, -3.58285151084936, -0.552513193872595, 17.1289987303823, -2.64580896977823, 2.15917324442827, -1.0275382842954, -1.94621270617105, 0.742809158547212, -1.98612020514191, 3.21431272511935, -3.15066694442771, -0.0391909545850595, 1.81266327678238, 0.518062935012981, -0.326762841518968, 0.937595162158657, -1.592410680205, -2.51339846124423, -0.902477215116669, 0.958403924081741, 1.01675503285035, -2.70162688667608, -2.42043746765158, -3.88559584256774, 0.824480614309686, -0.419838745145085, 1.40300304862858, 1.25367952001717, -1.95972500614612, -0.636802458817755, -1.79001073581158, -5.70097777149932, 1.65762914773518, 3.51958762203445, -3.25869960627186, -0.275089714262975, 1.12580670900319, -1.44307346524956, -1.26371151600462, 0.204490192871032, 1.02401563434433, -3.02856456148297, 0.425133648830485, 0.982149245692121, -0.973690695573789, -1.47040751051563, -3.50285386141624, -2.0893143063621, -2.6355342424028, 0.278714642888715, 4.56311087554184, -0.569350217562004, -0.729602784898523, 3.71948989389452, -0.724958505439015, -3.45970366448802, -1.92024672310163, -1.7174510215634, -4.16514675647426, 0.437335841851158, -3.68847517832551, 1.80129090699342, -3.86683658673551, 3.26137569134298, -0.19794780373231, 4.82513757083991, 0.281445494497228, -4.09100711950687, 0.985503226481729, -1.28736414988975, 2.18261819883172, 1.39336249374498, 0.871627482501457, -1.06301276788759, 0.853711257650794, -0.114331086639339, 0.175384749184649, -0.817237943030045, -0.676396003268472, -2.80072703144623, 0.0899269690000173, 1.7714603399254, -0.802625287327766, 0.203991142144639, -0.226979032324133, 1.0483859781461, 2.72586249339241, 2.2629340276588, 5.05080311608595, 1.27550700329154, 0.239879589794741, 4.09128999090813, -0.762454497808261, 5.42207307175356, -5.00049420705978, -1.83856604212971, 2.89528121698059, 0.202470028130204, -2.91798425430511, 2.74924412318307, 0.379399405198308, -0.322409559124229, 1.93067823029175, -0.28128142060197, -0.0195688782626132, 0.956918129506866, 0.977371568149236, 0.432510102254331, 1.26045544218567, 4.02413361539169, 4.12099921119353, -2.10854696067953, -2.45789243225281, 1.24432287135059, -1.97220908600972, -0.790525940627018, 2.640506678871, -2.05521914078308, 1.41820237874983, 1.3762018701991, 6.32035448683575, -0.240622871709259, -1.22987449926001, 0.780317375552188, 1.18660912598983, 0.363432621696084, -0.537353082512488, 1.89208929360724, -1.18440145641904, -0.608927703189967, -0.885225589892745, 1.69828128358948, 6.02615024384923, -0.0810671822304382, -0.205015319318975, -4.12838771861146, 0.525088565749195, 0.622937189224143, -1.84434663478604, -0.469800515974432, 0.675173297653204, 0.0454068469227292, 2.46728813900492, 1.00473748441637, -2.66368220214627, -0.943041091624968, -0.913050799915377, -1.14149463693269, -1.75849916643794, -2.03722909948611, -0.566211726086684, -1.6303350102775, -0.406733652035376, 1.93456981707628, 1.63865053790222, -3.70372966870405, 1.24235723286685, -3.46558111223201, 1.59923069440176, -0.961202508685938, 1.01388113170396, 0.516875409687929, 3.66272996668639, 0.391292681479203, 1.77930512849479, 0.210194995352734, -0.214105715355006, 3.30075663093631, 1.15375825720297, -0.183190413308839, 1.14668423261979, 1.37288395719693, -0.846659477859848, 1.0068464565697, -0.00296613586290941, 1.16764927993089, -0.820419373848885, 3.09155565638894, 0.450687083059663, -4.00957294081476, 0.078024164220119, -0.32183017502586, -0.00362337098307917, 0.714861382471852, -1.40347211648658, -1.27379216006984, 2.34625674211512, 1.61814058570015, 2.62856782749745, 2.15112303726139, -2.00322707615552, -1.01390532345447, 12.7915177204758, -8.08615712144256, 2.2304528816945, 1.32036754342691, 2.2702494863983, -3.72539051119995, 1.54986092819454, 0.724982398164898, -1.09121418499668, 0.0945548835855781, -4.48734469566858, -0.238957974905104, -0.612841860247726, 2.15303357142573, -0.798648572201587, -2.57408750136018, 1.10809952806822, -0.655239490002755, 0.602533573256594, 0.349263593473057, -2.09490440352192, -0.148557642396387, -0.21217366596356, -0.0174673581355355, 3.24297779853635, 1.31077495052936, 0.00700680175224654, -0.956168336863797, 3.00977359917886, 5.8488951257441, 6.01130518065335, -1.24529405083245, 1.21376489947943, -1.75533669907323, -2.48941775800101, -1.39746870340337, -0.585788733420767, 2.79186019581625, 6.95191887366949, -2.49667647767497, 0.85689242927665, 6.05505934380818, -1.84353644423164, -3.05739172616633, -1.54084232993153, 1.80563146646424, -0.431780755621594, 4.21547178602458, 1.91306205211088, 0.614214117136056, 4.83233504342067, 0.419761937347761, -1.97477252490264, 0.00995964657075922, -1.1611140407772, -0.921496965038808, 2.01011879387675, -0.492688175545836, 0.369383843475892, -2.36715992679585, 2.41163706282417, 5.37613780294965, 2.57019156813478, 1.63642794838333, -1.40761389283495, 0.0486890516488719, 1.53173097313344, 1.22514423527104, -7.87774062459924, 4.69075522019316, -1.92575040738476, -0.447821620488205, -1.96228587945921, 2.33303909350511, -0.850776818052441, -0.972671048859905, -0.625492773879719, -0.169022632882361, -2.56960522095849, -0.627246085080542, -1.37568415937089, 2.49693528461527, 0.853030133094958, 1.56410618996722, 2.70995945650986, 2.90192608200292, 6.70747853736404, -3.0323498631161, 2.79134531200972, 1.11789401658906, 0.337097433226428, -4.25575709395813, -0.916516112985071, 0.274295336020196, 0.462092212092527, 0.611333622236719, 2.22802945228043, 1.86212782297195, -3.04058535835153, 0.501120360559417, -0.252592358144802, 2.86591802328413, 1.55184926665455, 5.1192433523522, 1.91331260360041, 0.012277211591537, 2.8544971185633, 1.91337032148145, 0.117116502103378, 0.77041071207476, 0.90625247883272, -2.75432525465143, -2.22981669801874, 1.61357798033004, -0.92825890519647, 1.30940635608328, -1.52328145333143, 4.50399059862043, 0.364723716895453, -0.147484762156478, -1.92487978940188, 2.47652934854498, 1.86105000750261, -4.57263062516964, -0.419421311937118, -0.391761729996905, 0.61212827856411, 0.0281387967300959, 0.773151999282133, -1.6880187309389, 1.03345654026867, -1.35620986322534, 1.90006277750095, -1.72386990226026, 1.68899000563477, -0.114240734836126, -1.36993036271712, 7.19058700534276, -0.590004538234607, -3.32240089630418, 2.6394893808645, -1.92303716126017, 1.15794632959984, 1.54628112135738, 3.49509996150198, -5.33161321146804, 2.09224179830962, -0.254251634820641, 3.38667254848687, 1.70534215376173, -0.621684855266498, -0.909791979351218, -5.30218888692287, -6.74035913089964, -0.925521611799997, 0.222915995313889, 2.65992731395045, 1.23119491830485, -1.68579497181653, -0.247226606482449, -0.258433998492756, 0.288169851972106, 0.772174653248034, 2.17473848822524, 1.50995544452039, -0.704893170276075, 0.285749779061449, 1.1971561212752, -1.217459097368, 0.499370901286226, 5.59553385426875, -2.61713720272148, -1.84265973189907, -0.24392143654274, 2.87321477201843, 1.34886751357067, -1.22453941440383, -0.292048566625244, 1.52103728778329, -9.06749647328285, 0.429361249490179, -3.43787448387318, 0.940309800200014, -0.833002796828883, 0.693425569061337, -0.689897724246691, -2.40828323034832, 1.59177150823457, -1.03813363880376, -1.15333875510192, -22.3135926217558, -0.598037182875771, 0.346051096119365, -5.42281386330272, -2.94818860421179, 1.56080203834123, -0.0699015299885074, 0.61606852798695, -0.0157416654424327, -0.48119781109517, 5.47522714547851, 1.06847181538689, 2.11230026090632, -0.888853186320215, 4.87427934683587, 1.33773204480111, 0.950757881352634, -2.56612612026103, 3.17058828227055, 1.16415203664664, -1.17863981697432, 0.83934468798233, -4.03334348588841, 4.30387884966592, -1.5812134841177, -1.52027338830363, 1.7405701962862, -2.79910052143091, 3.03032260917178, 6.1244170358685, 5.30735381860436, -1.32058649042565, -5.40108299091297, -1.29306598195044, -0.0832083551207922, -1.7015502643233, -0.221726450468085, -0.709035852223573, 0.543175216251043, -3.01860758919566, 0.0679974084687863, -1.38653632334608, 1.33725766394818, 0.0567243350223979, 0.63882224298841, -0.454392298408734, -0.192219517561247, 1.85449593695456, -1.07420113869111, -0.621295411121019, -2.49472873967776, -2.84681428994615, 0.562047559622932, 3.67283839160803, -0.258229067260464, -0.57811818430399, -1.81936862269067, -0.100821331113075, 2.65879489015578, 2.49406721894068, -0.435096332939509, -0.0837219949006843, 1.68095211399727, 0.485175616535479, -2.27681042076767, -1.77128171962889, -2.86301717349838, -2.74987192182243, -1.92368122641289, 0.973583702267197, 0.0864427910532248, -2.23313189771042, 0.62836082726975, -1.99486300418142, 1.86391458074731, 0.657819934283818, -1.29882053995899, -1.59995574427656, 3.33526640310776, -0.0506631567633932, -11.2791028249808, 0.42573686705446, 2.01464964330714, -2.69315343977122, 0.347701288877952, -6.43739951779589, -1.98152526042192, -0.282811832473117, 3.35429703498427, 1.58664113425862, -1.17058348808448, -1.78805863813681, -2.45044477356293, -0.974234998119589, 3.40783597411539, -0.828747179172742, -1.58726440961032, 2.70826853848943, -0.369716718428016, 3.16793808553943, 0.55921506054703, 2.3126750627441, 2.01906190348261, -0.620681594078998, 2.16526877826374, -1.74027256861319, -0.792115031912475, -0.385630433645413, 2.27888416210375, 1.05333794631991, -1.78092401433396, 3.43985783197436, -1.06842140953276, 3.06791736608014, 4.07117541924771, -0.919215402876125, -0.595558917199812, 1.20320056360266, 0.777244765617223, -7.59698462900782, 0.94088959140672, -0.191004796236771, -8.02425415523561, -0.372499199601035, -2.12108359837473, -1.59069121259246, -1.88531774069186, 4.24759945761543, 3.12045663666777, -1.42753689861479, 0.567403515289283, -0.589566095169243, 0.363951068852293, 1.65896337975769, 0.533537284369876, 1.47225699930881, 0.509396266590304, 0.0151258732408307, 2.14446290932801, 0.54967973668871, -0.969515498995302, 0.242784855513648, 2.5650379476082]</td>\n",
       "        <td>11107.0638326</td>\n",
       "        <td>378.584010449</td>\n",
       "        <td>193</td>\n",
       "        <td>29900</td>\n",
       "        <td>2661</td>\n",
       "        <td>[False, True]</td>\n",
       "    </tr>\n",
       "</table>"
      ],
      "text/plain": [
       "[([-2.01824758710825, 0.142415330341722, -0.406952768146646, 0.323547279368753, 4.02757766368734, -0.736682098940432, -3.90502080708794, 2.09180936648094, -3.27643943025332, -1.78192192853058, -0.452869151390114, -5.79066527242473, -0.733466331531628, -5.68343719987323, -1.18998340218889, -0.88826142820505, -0.251904145544684, 3.88242628207631, -3.11886536657036, -1.90390904010437, 1.80267483350202, -3.69442774749305, -1.7395081067012, 0.991108483711886, -2.24051174401476, 2.09374165192408, -0.855821446232527, 0.565624422007473, -0.47204639432617, 0.673272521128769, -4.18526150826022, 4.50868541923335, 3.28084614597216, -1.83819039852294, 0.209500724447511, 5.91861796059941, 3.55913466083447, 7.81849911968738, 1.74133781387628, 10.1638054272517, -3.22369122918122, 2.37482750253116, -1.03779836354897, -3.66447170193058, 0.0350408516223365, 0.454528613577024, -1.19385053146103, 1.54694978640823, -1.24393227933923, -0.189506571607644, -0.356518047196438, 2.39130821865772, 7.86337290910466, 2.24370088600951, 0.857772317015588, -2.56506851657179, 0.413988496163076, 4.14905378313412, 1.37017732590804, -1.20695730132281, 1.57899457317195, 2.14692974288438, -2.42833341417327, 0.0430553944138281, 1.86211912116226, -0.00165507460752983, -1.21230431073205, 0.491551848744662, -0.24228190027641, 2.54654366294532, 1.63312376257851, 1.75189211712619, 0.348313469337073, 1.08010307456071, 1.4475806032459, 1.17555580372987, -5.24690391659617, 1.91843036934891, 2.72642738408904, -1.67502204100129, 1.03125566874432, -1.98654557542641, -1.14724673575079, 2.95963555880111, -3.1699074879827, 1.56512534015439, 0.280919254004124, 1.8138864319314, -0.799843848181833, -2.70183459617245, -2.6846761941514, 1.23619907454178, 4.83405871474735, -1.41270953582195, 0.163779400439891, 1.85126580362659, 1.64491558086739, -0.844527637738523, 1.93959737692736, 2.34865135591704, 0.145814495126528, -0.181799271294751, -1.54842093618882, 1.75290409031993, 1.08300599596827, 0.57155411177913, 0.399713835898495, -0.958369480412752, -1.24684291230027, 2.50776577918768, 6.05498231494876, -2.11599093772155, 0.260814542957255, 0.759979162442359, -7.18898952998077, 0.987106401364634, 0.498371515691701, -1.62388863377201, -1.62797444257821, -1.89017266630003, 0.819978163941632, 0.214647367818759, 1.91191696646278, 2.21717895881137, -1.21422616142453, 2.49551837719482, 0.647186660849757, 0.402355914533151, -1.31640062446456, -0.420828686024598, 0.0312071422413146, -0.447012810439768, 2.00283150929903, -0.711210981982425, -2.68528453998336, 2.17627634421483, -2.71857339812224, 5.34703351663374, -9.8147617098087, -4.76425179914937, -2.64893634963102, 2.02137004212944, -2.05950517597814, -1.61403641180907, 0.314959378199402, -1.27001755623414, 2.30945628940531, -0.282106657889014, 0.566783026711567, 2.91911067554183, -2.40459624791333, 0.58716948941795, -0.942129981400272, 2.42987958746258, 0.619646152537155, -0.405719120915164, 1.48610165557033, -0.461827462320926, 1.56500890135932, -1.76909198135687, -4.80317363328185, 0.524941154717851, -0.303775487819387, -2.43040103221232, 0.759644931200224, 0.829941848448204, 0.104320093244976, -2.53037580977074, 7.06568231220562, -4.07548770576049, -2.06353582162627, -1.63814180571116, 10.6384521520404, 0.854329429950901, -3.49722500315062, -1.35682982781711, 1.71879363405341, -1.73199583142812, 0.33882492701572, -1.54329725714477, -1.41149069417492, 0.857307173599383, 0.812726529482659, -5.60336383002867, -0.867887255580424, 1.6823572866346, -0.0649239896874719, 1.59075896785058, 0.417983035352976, -5.42700165820152, -0.608482751281484, -1.42562254429006, -2.94367515053271, -0.902577754366346, 0.321585649143886, -0.11001988050023, -1.30383490825469, 0.439353901291115, 0.980601987452019, 1.43484944868761, -0.0370424167254366, 1.55428858674486, 2.77958911896975, 0.127175718220849, 0.0781875801298774, 1.36049288702175, 1.241997993516, -1.37396500558922, 1.83205993866774, -1.46719466945584, 0.81721300634866, -3.38946476136628, -2.85092737888607, -1.53760292288551, 0.596420357577416, -1.07676058151849, -0.986358956595394, -2.80759021160902, 8.62796002607404, -0.90609953306694, 2.42862194119554, 2.41274002606631, 0.294841879078176, 0.179777931395681, -6.32785034891294, 0.0779296831303358, -0.628510321135943, 1.08937582589772, -2.14684458833304, 3.63496189103067, 7.36197601972843, 2.24001720882167, -3.19987555304572, 1.89106177425055, 0.526876009543636, -1.07318314933889, 4.95751347492776, 3.41106623070051, 3.21366407615174, 1.05470715592338, 0.0574346023062929, -4.59111890329718, -2.41628086850112, 1.30862145854652, -1.50713090444051, 2.1831187500181, 2.93280276310908, 0.991533892382647, 0.980188399712388, -2.78387028658602, -0.374861483363181, 2.10436468737492, 1.74619303272059, -2.74453087998132, -3.2326392797732, -0.690069374044381, 2.97716156253064, -4.62383277770297, 3.40399184100349, 2.30809534799524, 0.851669828838599, -0.380474626912707, 6.41822735995989, 0.662735364846171, -3.96321753256218, 7.35246572680609, 1.61878010661309, -0.212139099005121, 1.83975186995664, -0.717885978402878, 0.242922120806054, -0.168780243032213, 0.757385118432017, 0.955577593556555, 2.60845330590662, 0.81328909798238, 1.39679741972812, 1.13063555043757, 1.31823794426527, 1.64856084963928, 5.95311617707755, 1.94238065279933, 1.628509632388, 0.926818527492127, -1.06799862948255, -2.36360286867811, -1.71487252283197, -0.380312706407827, -4.47000214426787, 2.37555737843041, 1.37456776013176, 0.349438400834982, 0.624927544010469, 1.3482552493821, -8.2070942241132, 2.29405924319056, -0.998096772819238, -1.67830494235115, 0.54894241054814, 2.85557189495556, -0.408735041702337, 2.43831107320463, -0.39492518247199, 0.766679491977223, 2.04746471483282, -0.721500221661909, 3.35827124114523, 0.374203733810742, -3.79784780676543, 1.09032444070965, 6.80952216189456, -2.34897225980757, 1.87610305681386, 1.73018860298458, 5.06095888807717, 0.894174419581468, 0.930989974134458, 1.42238213188739, -0.204049093984008, 2.6367186569255, -1.81850923473634, 0.984088570690374, -1.27058044818047, 2.91306390412121, 0.888022337281047, 2.27079103036391, 3.05973330230213, 1.34770866091384, 0.251486897267717, 3.67045433017008, 0.210125995358086, -3.36462511571752, -1.75813800327195, -0.551753590653634, -4.19933456690116, 1.33782389528109, -1.60639258121759, -0.381978043897073, 0.472336481674122, -2.83914124004781, -2.95824331656919, 6.69753440633239, 1.75599005983504, -0.802724459103696, -4.42426141003174, 2.93603023674471, -2.58365680363243, 1.66536377114323, -2.57837538565523, -3.5356900547746, -0.270732968103115, 1.42805803501485, 1.15282036455697, -0.410485490105691, 0.516491361456642, -0.399014026810564, 1.7307206514003, 2.24356543660392, 3.27964731720119, -0.998568941541142, 0.231260274885132, -0.650414349657995, 1.1757993241609, -1.97764406299704, -6.08485915812574, 0.285868770091467, 3.22200395297331, -1.27081103478941, 0.309974066102388, -0.816847158288933, 7.09048985105319, -0.347776745363437, -0.717410706314042, 2.39529049037691, 1.95828983751614, 1.31946959107038, 0.270744910275313, -6.64126177806145, -4.91721436465928, -2.00199977186345, 2.57767762672991, 2.40413810264162, -8.55393724720554, 1.79550584228167, 0.928131230940308, -3.79342074830297, 0.542071648436192, 1.82748116637129, -5.66056944953469, 1.22802673833125, -0.423118413171415, -4.37445296943835, 0.547183232113799, 0.990564193315451, 0.617860889198911, 0.48164785270983, 1.81552554633034, -0.381052215469875, 0.718647941571689, 2.35350278313863, -1.29972669887515, 1.92479895468402, 6.58836895666794, 0.198601211156792, -1.92515935361195, -0.709616311885843, -4.16379182504992, 1.63463247852211, 0.968146366289041, 2.51433518611445, -2.29029836429131, -5.33991570734851, 0.288163574475366, -2.23164743552353, 2.69294491548063, -5.6605076092617, -5.33536081620689, -3.240786835776, -3.2182130555368, 1.18024203194265, -3.79074057405403, -0.719529549754878, -3.33079677183237, -2.80311942206107, -0.6900827264415, 1.39354429275414, 9.23348691193084, 1.2707980598789, 3.24741865601111, 0.548813247839667, -1.12798844017083, 2.2011273208097, -4.14234400484444, 3.3992188024009, 2.03138619720895, -0.466391367515463, -4.66139366903303, -3.77297053501255, -1.73591002598755, -1.87354025437309, -0.195326729941067, -0.995620713149734, 2.11246680483591, -2.74163998576275, 1.15888659813539, 0.111704678747003, 3.07156438749981, 0.254510547873408, -1.92322430715187, -0.860601707314247, -7.84924082048632, -1.98528235691064, -0.912011727866459, -0.971628580133712, 3.81105256582439, -8.07747460607845, -0.743641930678321, 2.24411458228977, -1.4143074945712, 1.53006367805961, 1.43402530485993, -0.417296162776374, -2.42598830711082, -0.94558163737544, 1.09018801842302, -1.33496782153588, 2.50101251860882, 5.77255858724619, -2.02436427239368, -0.874502570122143, -1.02158088227658, -0.456099914639248, 4.3506735419001, 3.1798993009928, 0.162724552735261, -3.58285151084936, -0.552513193872595, 17.1289987303823, -2.64580896977823, 2.15917324442827, -1.0275382842954, -1.94621270617105, 0.742809158547212, -1.98612020514191, 3.21431272511935, -3.15066694442771, -0.0391909545850595, 1.81266327678238, 0.518062935012981, -0.326762841518968, 0.937595162158657, -1.592410680205, -2.51339846124423, -0.902477215116669, 0.958403924081741, 1.01675503285035, -2.70162688667608, -2.42043746765158, -3.88559584256774, 0.824480614309686, -0.419838745145085, 1.40300304862858, 1.25367952001717, -1.95972500614612, -0.636802458817755, -1.79001073581158, -5.70097777149932, 1.65762914773518, 3.51958762203445, -3.25869960627186, -0.275089714262975, 1.12580670900319, -1.44307346524956, -1.26371151600462, 0.204490192871032, 1.02401563434433, -3.02856456148297, 0.425133648830485, 0.982149245692121, -0.973690695573789, -1.47040751051563, -3.50285386141624, -2.0893143063621, -2.6355342424028, 0.278714642888715, 4.56311087554184, -0.569350217562004, -0.729602784898523, 3.71948989389452, -0.724958505439015, -3.45970366448802, -1.92024672310163, -1.7174510215634, -4.16514675647426, 0.437335841851158, -3.68847517832551, 1.80129090699342, -3.86683658673551, 3.26137569134298, -0.19794780373231, 4.82513757083991, 0.281445494497228, -4.09100711950687, 0.985503226481729, -1.28736414988975, 2.18261819883172, 1.39336249374498, 0.871627482501457, -1.06301276788759, 0.853711257650794, -0.114331086639339, 0.175384749184649, -0.817237943030045, -0.676396003268472, -2.80072703144623, 0.0899269690000173, 1.7714603399254, -0.802625287327766, 0.203991142144639, -0.226979032324133, 1.0483859781461, 2.72586249339241, 2.2629340276588, 5.05080311608595, 1.27550700329154, 0.239879589794741, 4.09128999090813, -0.762454497808261, 5.42207307175356, -5.00049420705978, -1.83856604212971, 2.89528121698059, 0.202470028130204, -2.91798425430511, 2.74924412318307, 0.379399405198308, -0.322409559124229, 1.93067823029175, -0.28128142060197, -0.0195688782626132, 0.956918129506866, 0.977371568149236, 0.432510102254331, 1.26045544218567, 4.02413361539169, 4.12099921119353, -2.10854696067953, -2.45789243225281, 1.24432287135059, -1.97220908600972, -0.790525940627018, 2.640506678871, -2.05521914078308, 1.41820237874983, 1.3762018701991, 6.32035448683575, -0.240622871709259, -1.22987449926001, 0.780317375552188, 1.18660912598983, 0.363432621696084, -0.537353082512488, 1.89208929360724, -1.18440145641904, -0.608927703189967, -0.885225589892745, 1.69828128358948, 6.02615024384923, -0.0810671822304382, -0.205015319318975, -4.12838771861146, 0.525088565749195, 0.622937189224143, -1.84434663478604, -0.469800515974432, 0.675173297653204, 0.0454068469227292, 2.46728813900492, 1.00473748441637, -2.66368220214627, -0.943041091624968, -0.913050799915377, -1.14149463693269, -1.75849916643794, -2.03722909948611, -0.566211726086684, -1.6303350102775, -0.406733652035376, 1.93456981707628, 1.63865053790222, -3.70372966870405, 1.24235723286685, -3.46558111223201, 1.59923069440176, -0.961202508685938, 1.01388113170396, 0.516875409687929, 3.66272996668639, 0.391292681479203, 1.77930512849479, 0.210194995352734, -0.214105715355006, 3.30075663093631, 1.15375825720297, -0.183190413308839, 1.14668423261979, 1.37288395719693, -0.846659477859848, 1.0068464565697, -0.00296613586290941, 1.16764927993089, -0.820419373848885, 3.09155565638894, 0.450687083059663, -4.00957294081476, 0.078024164220119, -0.32183017502586, -0.00362337098307917, 0.714861382471852, -1.40347211648658, -1.27379216006984, 2.34625674211512, 1.61814058570015, 2.62856782749745, 2.15112303726139, -2.00322707615552, -1.01390532345447, 12.7915177204758, -8.08615712144256, 2.2304528816945, 1.32036754342691, 2.2702494863983, -3.72539051119995, 1.54986092819454, 0.724982398164898, -1.09121418499668, 0.0945548835855781, -4.48734469566858, -0.238957974905104, -0.612841860247726, 2.15303357142573, -0.798648572201587, -2.57408750136018, 1.10809952806822, -0.655239490002755, 0.602533573256594, 0.349263593473057, -2.09490440352192, -0.148557642396387, -0.21217366596356, -0.0174673581355355, 3.24297779853635, 1.31077495052936, 0.00700680175224654, -0.956168336863797, 3.00977359917886, 5.8488951257441, 6.01130518065335, -1.24529405083245, 1.21376489947943, -1.75533669907323, -2.48941775800101, -1.39746870340337, -0.585788733420767, 2.79186019581625, 6.95191887366949, -2.49667647767497, 0.85689242927665, 6.05505934380818, -1.84353644423164, -3.05739172616633, -1.54084232993153, 1.80563146646424, -0.431780755621594, 4.21547178602458, 1.91306205211088, 0.614214117136056, 4.83233504342067, 0.419761937347761, -1.97477252490264, 0.00995964657075922, -1.1611140407772, -0.921496965038808, 2.01011879387675, -0.492688175545836, 0.369383843475892, -2.36715992679585, 2.41163706282417, 5.37613780294965, 2.57019156813478, 1.63642794838333, -1.40761389283495, 0.0486890516488719, 1.53173097313344, 1.22514423527104, -7.87774062459924, 4.69075522019316, -1.92575040738476, -0.447821620488205, -1.96228587945921, 2.33303909350511, -0.850776818052441, -0.972671048859905, -0.625492773879719, -0.169022632882361, -2.56960522095849, -0.627246085080542, -1.37568415937089, 2.49693528461527, 0.853030133094958, 1.56410618996722, 2.70995945650986, 2.90192608200292, 6.70747853736404, -3.0323498631161, 2.79134531200972, 1.11789401658906, 0.337097433226428, -4.25575709395813, -0.916516112985071, 0.274295336020196, 0.462092212092527, 0.611333622236719, 2.22802945228043, 1.86212782297195, -3.04058535835153, 0.501120360559417, -0.252592358144802, 2.86591802328413, 1.55184926665455, 5.1192433523522, 1.91331260360041, 0.012277211591537, 2.8544971185633, 1.91337032148145, 0.117116502103378, 0.77041071207476, 0.90625247883272, -2.75432525465143, -2.22981669801874, 1.61357798033004, -0.92825890519647, 1.30940635608328, -1.52328145333143, 4.50399059862043, 0.364723716895453, -0.147484762156478, -1.92487978940188, 2.47652934854498, 1.86105000750261, -4.57263062516964, -0.419421311937118, -0.391761729996905, 0.61212827856411, 0.0281387967300959, 0.773151999282133, -1.6880187309389, 1.03345654026867, -1.35620986322534, 1.90006277750095, -1.72386990226026, 1.68899000563477, -0.114240734836126, -1.36993036271712, 7.19058700534276, -0.590004538234607, -3.32240089630418, 2.6394893808645, -1.92303716126017, 1.15794632959984, 1.54628112135738, 3.49509996150198, -5.33161321146804, 2.09224179830962, -0.254251634820641, 3.38667254848687, 1.70534215376173, -0.621684855266498, -0.909791979351218, -5.30218888692287, -6.74035913089964, -0.925521611799997, 0.222915995313889, 2.65992731395045, 1.23119491830485, -1.68579497181653, -0.247226606482449, -0.258433998492756, 0.288169851972106, 0.772174653248034, 2.17473848822524, 1.50995544452039, -0.704893170276075, 0.285749779061449, 1.1971561212752, -1.217459097368, 0.499370901286226, 5.59553385426875, -2.61713720272148, -1.84265973189907, -0.24392143654274, 2.87321477201843, 1.34886751357067, -1.22453941440383, -0.292048566625244, 1.52103728778329, -9.06749647328285, 0.429361249490179, -3.43787448387318, 0.940309800200014, -0.833002796828883, 0.693425569061337, -0.689897724246691, -2.40828323034832, 1.59177150823457, -1.03813363880376, -1.15333875510192, -22.3135926217558, -0.598037182875771, 0.346051096119365, -5.42281386330272, -2.94818860421179, 1.56080203834123, -0.0699015299885074, 0.61606852798695, -0.0157416654424327, -0.48119781109517, 5.47522714547851, 1.06847181538689, 2.11230026090632, -0.888853186320215, 4.87427934683587, 1.33773204480111, 0.950757881352634, -2.56612612026103, 3.17058828227055, 1.16415203664664, -1.17863981697432, 0.83934468798233, -4.03334348588841, 4.30387884966592, -1.5812134841177, -1.52027338830363, 1.7405701962862, -2.79910052143091, 3.03032260917178, 6.1244170358685, 5.30735381860436, -1.32058649042565, -5.40108299091297, -1.29306598195044, -0.0832083551207922, -1.7015502643233, -0.221726450468085, -0.709035852223573, 0.543175216251043, -3.01860758919566, 0.0679974084687863, -1.38653632334608, 1.33725766394818, 0.0567243350223979, 0.63882224298841, -0.454392298408734, -0.192219517561247, 1.85449593695456, -1.07420113869111, -0.621295411121019, -2.49472873967776, -2.84681428994615, 0.562047559622932, 3.67283839160803, -0.258229067260464, -0.57811818430399, -1.81936862269067, -0.100821331113075, 2.65879489015578, 2.49406721894068, -0.435096332939509, -0.0837219949006843, 1.68095211399727, 0.485175616535479, -2.27681042076767, -1.77128171962889, -2.86301717349838, -2.74987192182243, -1.92368122641289, 0.973583702267197, 0.0864427910532248, -2.23313189771042, 0.62836082726975, -1.99486300418142, 1.86391458074731, 0.657819934283818, -1.29882053995899, -1.59995574427656, 3.33526640310776, -0.0506631567633932, -11.2791028249808, 0.42573686705446, 2.01464964330714, -2.69315343977122, 0.347701288877952, -6.43739951779589, -1.98152526042192, -0.282811832473117, 3.35429703498427, 1.58664113425862, -1.17058348808448, -1.78805863813681, -2.45044477356293, -0.974234998119589, 3.40783597411539, -0.828747179172742, -1.58726440961032, 2.70826853848943, -0.369716718428016, 3.16793808553943, 0.55921506054703, 2.3126750627441, 2.01906190348261, -0.620681594078998, 2.16526877826374, -1.74027256861319, -0.792115031912475, -0.385630433645413, 2.27888416210375, 1.05333794631991, -1.78092401433396, 3.43985783197436, -1.06842140953276, 3.06791736608014, 4.07117541924771, -0.919215402876125, -0.595558917199812, 1.20320056360266, 0.777244765617223, -7.59698462900782, 0.94088959140672, -0.191004796236771, -8.02425415523561, -0.372499199601035, -2.12108359837473, -1.59069121259246, -1.88531774069186, 4.24759945761543, 3.12045663666777, -1.42753689861479, 0.567403515289283, -0.589566095169243, 0.363951068852293, 1.65896337975769, 0.533537284369876, 1.47225699930881, 0.509396266590304, 0.0151258732408307, 2.14446290932801, 0.54967973668871, -0.969515498995302, 0.242784855513648, 2.5650379476082], 11107.063832629, 378.584010448994, 193, 29900L, 2661L, [False, True])]"
      ]
     },
     "execution_count": 482,
     "metadata": {},
     "output_type": "execute_result"
    }
   ],
   "source": [
    "%%sql\n",
    "\n",
    "DROP TABLE IF EXISTS\n",
    "    adult_data_parsed_svm_gaussian_1000\n",
    "    ,adult_data_parsed_svm_gaussian_1000_summary\n",
    "    ,adult_data_parsed_svm_gaussian_1000_random\n",
    ";\n",
    "SELECT\n",
    "    madlib.svm_classification(\n",
    "        'adult_data_parsed'\n",
    "        ,'adult_data_parsed_svm_gaussian_1000'\n",
    "        ,'class = 0.0'\n",
    "        ,'ARRAY[\n",
    "            workclass\n",
    "            ,education\n",
    "            ,marital_status\n",
    "            ,occupation\n",
    "            ,relationship\n",
    "            ,race\n",
    "            ,sex\n",
    "            ,native_country\n",
    "        ]'\n",
    "        ,'gaussian'\n",
    "        ,'n_components=1000'\n",
    "        ,''\n",
    "        ,'init_stepsize=2,\n",
    "            max_iter=200'\n",
    "    )\n",
    ";\n",
    "SELECT * FROM adult_data_parsed_svm_gaussian_1000;"
   ]
  },
  {
   "cell_type": "code",
   "execution_count": 483,
   "metadata": {
    "collapsed": false
   },
   "outputs": [
    {
     "data": {
      "text/html": [
       "<table>\n",
       "    <tr>\n",
       "        <th>index</th>\n",
       "        <th>prediction</th>\n",
       "        <th>decision_function</th>\n",
       "    </tr>\n",
       "    <tr>\n",
       "        <td>0</td>\n",
       "        <td>False</td>\n",
       "        <td>-2.75168489053</td>\n",
       "    </tr>\n",
       "    <tr>\n",
       "        <td>1</td>\n",
       "        <td>False</td>\n",
       "        <td>-1.01947139686</td>\n",
       "    </tr>\n",
       "    <tr>\n",
       "        <td>2</td>\n",
       "        <td>True</td>\n",
       "        <td>1.00000001042</td>\n",
       "    </tr>\n",
       "    <tr>\n",
       "        <td>3</td>\n",
       "        <td>False</td>\n",
       "        <td>-1.03874735588</td>\n",
       "    </tr>\n",
       "    <tr>\n",
       "        <td>5</td>\n",
       "        <td>False</td>\n",
       "        <td>-2.38269391935</td>\n",
       "    </tr>\n",
       "    <tr>\n",
       "        <td>7</td>\n",
       "        <td>True</td>\n",
       "        <td>1.00000001097</td>\n",
       "    </tr>\n",
       "    <tr>\n",
       "        <td>8</td>\n",
       "        <td>False</td>\n",
       "        <td>-1.29193105377</td>\n",
       "    </tr>\n",
       "    <tr>\n",
       "        <td>9</td>\n",
       "        <td>False</td>\n",
       "        <td>-1.49512161449</td>\n",
       "    </tr>\n",
       "    <tr>\n",
       "        <td>10</td>\n",
       "        <td>False</td>\n",
       "        <td>-1.01893068037</td>\n",
       "    </tr>\n",
       "    <tr>\n",
       "        <td>11</td>\n",
       "        <td>True</td>\n",
       "        <td>1.09882108507</td>\n",
       "    </tr>\n",
       "</table>"
      ],
      "text/plain": [
       "[(0L, False, -2.75168489052722),\n",
       " (1L, False, -1.01947139686145),\n",
       " (2L, True, 1.00000001042047),\n",
       " (3L, False, -1.03874735588005),\n",
       " (5L, False, -2.38269391934806),\n",
       " (7L, True, 1.00000001096861),\n",
       " (8L, False, -1.29193105377023),\n",
       " (9L, False, -1.49512161449261),\n",
       " (10L, False, -1.01893068036721),\n",
       " (11L, True, 1.09882108507386)]"
      ]
     },
     "execution_count": 483,
     "metadata": {},
     "output_type": "execute_result"
    }
   ],
   "source": [
    "%%sql\n",
    "\n",
    "DROP TABLE IF EXISTS adult_test_parsed_pred_gaussian_1000;\n",
    "SELECT\n",
    "    madlib.svm_predict(\n",
    "        'adult_data_parsed_svm_gaussian_1000'\n",
    "        ,'adult_test_parsed'\n",
    "        ,'index'\n",
    "        ,'adult_test_parsed_pred_gaussian_1000'\n",
    "    )\n",
    ";\n",
    "SELECT * FROM adult_test_parsed_pred_gaussian_1000 LIMIT 10;"
   ]
  },
  {
   "cell_type": "code",
   "execution_count": 484,
   "metadata": {
    "collapsed": false
   },
   "outputs": [
    {
     "data": {
      "text/html": [
       "<table>\n",
       "    <tr>\n",
       "        <th>observed</th>\n",
       "        <th>prediction</th>\n",
       "    </tr>\n",
       "    <tr>\n",
       "        <td>1.0</td>\n",
       "        <td>1.0</td>\n",
       "    </tr>\n",
       "    <tr>\n",
       "        <td>1.0</td>\n",
       "        <td>1.0</td>\n",
       "    </tr>\n",
       "    <tr>\n",
       "        <td>0.0</td>\n",
       "        <td>0.0</td>\n",
       "    </tr>\n",
       "    <tr>\n",
       "        <td>0.0</td>\n",
       "        <td>1.0</td>\n",
       "    </tr>\n",
       "    <tr>\n",
       "        <td>1.0</td>\n",
       "        <td>1.0</td>\n",
       "    </tr>\n",
       "    <tr>\n",
       "        <td>0.0</td>\n",
       "        <td>0.0</td>\n",
       "    </tr>\n",
       "    <tr>\n",
       "        <td>1.0</td>\n",
       "        <td>1.0</td>\n",
       "    </tr>\n",
       "    <tr>\n",
       "        <td>1.0</td>\n",
       "        <td>1.0</td>\n",
       "    </tr>\n",
       "    <tr>\n",
       "        <td>0.0</td>\n",
       "        <td>1.0</td>\n",
       "    </tr>\n",
       "    <tr>\n",
       "        <td>1.0</td>\n",
       "        <td>0.0</td>\n",
       "    </tr>\n",
       "</table>"
      ],
      "text/plain": [
       "[(1.0, 1.0),\n",
       " (1.0, 1.0),\n",
       " (0.0, 0.0),\n",
       " (0.0, 1.0),\n",
       " (1.0, 1.0),\n",
       " (0.0, 0.0),\n",
       " (1.0, 1.0),\n",
       " (1.0, 1.0),\n",
       " (0.0, 1.0),\n",
       " (1.0, 0.0)]"
      ]
     },
     "execution_count": 484,
     "metadata": {},
     "output_type": "execute_result"
    }
   ],
   "source": [
    "%%sql\n",
    "\n",
    "DROP TABLE IF EXISTS adult_test_parsed_pred_gaussian_1000_roc_input;\n",
    "CREATE TABLE\n",
    "    adult_test_parsed_pred_gaussian_1000_roc_input\n",
    "AS\n",
    "    SELECT\n",
    "        ob.class::FLOAT8 AS observed\n",
    "        ,CASE pre.prediction\n",
    "            WHEN True THEN '0.0'::FLOAT8\n",
    "            WHEN False THEN '1.0'::FLOAT8\n",
    "            END AS prediction\n",
    "    FROM adult_test_parsed_pred_gaussian_1000 AS pre\n",
    "            LEFT OUTER JOIN adult_test_parsed AS ob\n",
    "                ON pre.index = ob.index\n",
    ";\n",
    "SELECT * FROM adult_test_parsed_pred_gaussian_1000_roc_input LIMIT 10;"
   ]
  },
  {
   "cell_type": "code",
   "execution_count": 485,
   "metadata": {
    "collapsed": false
   },
   "outputs": [
    {
     "data": {
      "text/html": [
       "<table>\n",
       "    <tr>\n",
       "        <th>area_under_roc</th>\n",
       "    </tr>\n",
       "    <tr>\n",
       "        <td>0.71222897399791103725000000000000000000000</td>\n",
       "    </tr>\n",
       "</table>"
      ],
      "text/plain": [
       "[(Decimal('0.71222897399791103725000000000000000000000'),)]"
      ]
     },
     "execution_count": 485,
     "metadata": {},
     "output_type": "execute_result"
    }
   ],
   "source": [
    "%%sql \n",
    "\n",
    "DROP TABLE IF EXISTS adult_test_parsed_pred_gaussian_1000_roc_output;\n",
    "SELECT\n",
    "    madlib.area_under_roc(\n",
    "        'adult_test_parsed_pred_gaussian_1000_roc_input'\n",
    "        ,'adult_test_parsed_pred_gaussian_1000_roc_output'\n",
    "        ,'prediction'\n",
    "        ,'observed'\n",
    "    )\n",
    ";\n",
    "SELECT * FROM adult_test_parsed_pred_gaussian_1000_roc_output;"
   ]
  },
  {
   "cell_type": "markdown",
   "metadata": {
    "collapsed": false
   },
   "source": [
    "## 結果をまとめてみる"
   ]
  },
  {
   "cell_type": "code",
   "execution_count": 492,
   "metadata": {
    "collapsed": false
   },
   "outputs": [
    {
     "data": {
      "text/html": [
       "<table>\n",
       "    <tr>\n",
       "        <th>aur</th>\n",
       "        <th>aur10</th>\n",
       "        <th>aur20</th>\n",
       "        <th>aur30</th>\n",
       "        <th>aur40</th>\n",
       "        <th>aur1000</th>\n",
       "    </tr>\n",
       "    <tr>\n",
       "        <td>0.75739088673387834842500000000000000000000</td>\n",
       "        <td>0.53230553708029699758500000000000000000000</td>\n",
       "        <td>0.52747277189892029985000000000000000000000</td>\n",
       "        <td>0.61805934273185341981500000000000000000000</td>\n",
       "        <td>0.63083868411053258884500000000000000000000</td>\n",
       "        <td>0.71222897399791103725000000000000000000000</td>\n",
       "    </tr>\n",
       "</table>"
      ],
      "text/plain": [
       "[(Decimal('0.75739088673387834842500000000000000000000'), Decimal('0.53230553708029699758500000000000000000000'), Decimal('0.52747277189892029985000000000000000000000'), Decimal('0.61805934273185341981500000000000000000000'), Decimal('0.63083868411053258884500000000000000000000'), Decimal('0.71222897399791103725000000000000000000000'))]"
      ]
     },
     "execution_count": 492,
     "metadata": {},
     "output_type": "execute_result"
    }
   ],
   "source": [
    "%%sql\n",
    "SELECT \n",
    "    aur.area_under_roc AS aur\n",
    "    ,aur10.area_under_roc AS aur10\n",
    "    ,aur20.area_under_roc AS aur20\n",
    "    ,aur30.area_under_roc AS aur30\n",
    "    ,aur40.area_under_roc AS aur40\n",
    "    ,aur1000.area_under_roc AS aur1000\n",
    "FROM\n",
    "    adult_test_parsed_pred_roc_output AS aur\n",
    "    ,adult_test_parsed_pred_gaussian_10_roc_output AS aur10\n",
    "    ,adult_test_parsed_pred_gaussian_20_roc_output AS aur20\n",
    "    ,adult_test_parsed_pred_gaussian_30_roc_output AS aur30\n",
    "    ,adult_test_parsed_pred_gaussian_40_roc_output AS aur40\n",
    "    ,adult_test_parsed_pred_gaussian_1000_roc_output AS aur1000\n",
    ";"
   ]
  },
  {
   "cell_type": "markdown",
   "metadata": {
    "collapsed": false
   },
   "source": [
    "更なるチューニングの余地あり…"
   ]
  },
  {
   "cell_type": "code",
   "execution_count": null,
   "metadata": {
    "collapsed": true
   },
   "outputs": [],
   "source": []
  }
 ],
 "metadata": {
  "anaconda-cloud": {},
  "kernelspec": {
   "display_name": "Python [conda root]",
   "language": "python",
   "name": "conda-root-py"
  },
  "language_info": {
   "codemirror_mode": {
    "name": "ipython",
    "version": 2
   },
   "file_extension": ".py",
   "mimetype": "text/x-python",
   "name": "python",
   "nbconvert_exporter": "python",
   "pygments_lexer": "ipython2",
   "version": "2.7.12"
  }
 },
 "nbformat": 4,
 "nbformat_minor": 1
}
